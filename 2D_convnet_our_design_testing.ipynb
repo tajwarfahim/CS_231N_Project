{
 "cells": [
  {
   "cell_type": "code",
   "execution_count": null,
   "metadata": {},
   "outputs": [],
   "source": [
    "from project_code.label_loader import *\n",
    "from project_code.image_loader import *\n",
    "from project_code.util import *\n",
    "from project_code.models import *\n",
    "from project_code.model_trainer import *\n",
    "from project_code.dataset import *"
   ]
  },
  {
   "cell_type": "code",
   "execution_count": null,
   "metadata": {},
   "outputs": [],
   "source": [
    "file_name_1 = '/Users/fahimtajwar/Academics/cs231/labels_cells_only.xlsx'\n",
    "file_name_2 = '/Users/fahimtajwar/Academics/cs231/classes_800.xlsx'\n",
    "file_names = [file_name_1, file_name_2]\n",
    "\n",
    "label_reader = Label_Reader(file_names)\n",
    "weight_vector = label_reader.get_weight_vector()\n",
    "print(label_reader.get_all_labels())\n",
    "print(label_reader.get_label_to_label_id_map())\n",
    "print(weight_vector)"
   ]
  },
  {
   "cell_type": "code",
   "execution_count": null,
   "metadata": {},
   "outputs": [],
   "source": [
    "prefix = \"/Users/fahimtajwar/Academics/cs231/project_data_well_2/well2_data/well\"\n",
    "suffix = \"_well.png\"\n",
    "\n",
    "all_well_ids = label_reader.get_all_well_ids()\n",
    "si = Single_Image_Loader(5, all_well_ids, prefix, suffix)\n",
    "tensor = si.get_image_tensor()\n",
    "well_id_to_image_id_map = si.get_well_to_image_id_map()\n",
    "print(tensor.shape)\n",
    "print(well_id_to_image_id_map)"
   ]
  },
  {
   "cell_type": "code",
   "execution_count": null,
   "metadata": {},
   "outputs": [],
   "source": [
    "input_size = 3 * 224 * 224\n",
    "num_classes = 3\n",
    "\n",
    "label_to_label_id = label_reader.label_to_label_id\n",
    "label_id_to_label_map = label_reader.get_label_id_to_label_map()\n",
    "#print(label_id_to_label_map)\n",
    "\n",
    "Y_label = label_reader.get_label_map()\n",
    "for key in Y_label:\n",
    "    Y_label[key] = label_to_label_id[Y_label[key]]\n",
    "\n",
    "#print(Y_label)\n",
    "\n",
    "label_id_train, label_id_val, label_id_test = get_dataset_split(Y_label)\n",
    "print(len(label_id_train))\n",
    "print(label_id_train)\n",
    "print(len(label_id_val))\n",
    "print(len(label_id_train))"
   ]
  },
  {
   "cell_type": "code",
   "execution_count": null,
   "metadata": {},
   "outputs": [],
   "source": [
    "training_set = Augmented_Dataset(tensor, label_id_train, Y_label, well_id_to_image_id_map, \n",
    "                                 final_transformation_choice)\n",
    "validation_set = Augmented_Dataset(tensor, label_id_val, Y_label, well_id_to_image_id_map, transform_normalization)\n",
    "test_set = Augmented_Dataset(tensor, label_id_test, Y_label, well_id_to_image_id_map, transform_normalization)"
   ]
  },
  {
   "cell_type": "code",
   "execution_count": null,
   "metadata": {},
   "outputs": [],
   "source": [
    "training_batch_size = 320\n",
    "validation_batch_size = 1\n",
    "test_batch_size = 1\n",
    "learning_rate = 0.0001\n",
    "\n",
    "validation_loader = torch.utils.data.DataLoader(dataset = validation_set, \n",
    "                                          batch_size = validation_batch_size, \n",
    "                                          shuffle = False)\n",
    "test_loader = torch.utils.data.DataLoader(dataset = test_set, \n",
    "                                          batch_size = test_batch_size, \n",
    "                                          shuffle = False)"
   ]
  }
 ],
 "metadata": {
  "kernelspec": {
   "display_name": "Python 3",
   "language": "python",
   "name": "python3"
  },
  "language_info": {
   "codemirror_mode": {
    "name": "ipython",
    "version": 3
   },
   "file_extension": ".py",
   "mimetype": "text/x-python",
   "name": "python",
   "nbconvert_exporter": "python",
   "pygments_lexer": "ipython3",
   "version": "3.7.3"
  }
 },
 "nbformat": 4,
 "nbformat_minor": 2
}
