{
 "cells": [
  {
   "cell_type": "code",
   "execution_count": 1,
   "metadata": {},
   "outputs": [],
   "source": [
    "from project_code.label_loader import *\n",
    "import numpy as np\n",
    "from torch.utils import data"
   ]
  },
  {
   "cell_type": "code",
   "execution_count": 2,
   "metadata": {},
   "outputs": [
    {
     "name": "stdout",
     "output_type": "stream",
     "text": [
      "{'cell dies', 'grows dense', 'grows sparse'}\n"
     ]
    }
   ],
   "source": [
    "file_name_1 = '/Users/fahimtajwar/Academics/cs231/labels_cells_only.xlsx'\n",
    "file_name_2 = '/Users/fahimtajwar/Academics/cs231/classes_800.xlsx'\n",
    "file_names = [file_name_1, file_name_2]\n",
    "\n",
    "label_reader = Label_Reader(file_names)\n",
    "print(label_reader.get_all_labels())"
   ]
  },
  {
   "cell_type": "code",
   "execution_count": 3,
   "metadata": {},
   "outputs": [
    {
     "name": "stdout",
     "output_type": "stream",
     "text": [
      "351\n"
     ]
    }
   ],
   "source": [
    "print(label_reader.get_number_of_data_points())"
   ]
  },
  {
   "cell_type": "code",
   "execution_count": 4,
   "metadata": {},
   "outputs": [
    {
     "name": "stdout",
     "output_type": "stream",
     "text": [
      "3\n"
     ]
    }
   ],
   "source": [
    "print(label_reader.get_number_of_different_labels())"
   ]
  },
  {
   "cell_type": "code",
   "execution_count": 5,
   "metadata": {},
   "outputs": [
    {
     "name": "stdout",
     "output_type": "stream",
     "text": [
      "{0: 'cell dies', 1: 'grows dense', 2: 'grows sparse'}\n"
     ]
    }
   ],
   "source": [
    "print(label_reader.get_label_id_to_label_map())"
   ]
  },
  {
   "cell_type": "code",
   "execution_count": 6,
   "metadata": {},
   "outputs": [
    {
     "name": "stdout",
     "output_type": "stream",
     "text": [
      "[0, 1, 2, 0, 2, 0, 0, 2, 2, 2, 2, 0, 0, 2, 0, 0, 2, 1, 1, 0, 2, 2, 2, 1, 0, 2, 2, 0, 0, 2, 1, 2, 2, 2, 1, 0, 0, 0, 2, 2, 2, 0, 2, 2, 0, 2, 1, 2, 2, 2, 0, 2, 2, 1, 1, 0, 2, 2, 2, 0, 2, 1, 1, 2, 0, 2, 2, 0, 1, 0, 2, 2, 2, 0, 2, 2, 2, 2, 2, 1, 2, 2, 2, 2, 2, 2, 2, 2, 1, 2, 2, 0, 2, 2, 2, 0, 2, 2, 1, 2, 2, 2, 2, 2, 1, 0, 2, 1, 2, 0, 1, 2, 2, 1, 2, 2, 2, 2, 1, 2, 0, 1, 2, 1, 2, 0, 2, 2, 2, 0, 0, 0, 2, 1, 2, 2, 0, 2, 2, 2, 2, 2, 2, 2, 2, 2, 2, 2, 1, 0, 0, 2, 0, 2, 2, 2, 1, 1, 2, 2, 0, 1, 2, 2, 2, 1, 2, 2, 2, 1, 0, 2, 2, 1, 2, 0, 2, 2, 2, 1, 2, 0, 2, 2, 2, 2, 0, 1, 2, 1, 2, 2, 2, 2, 2, 2, 2, 2, 2, 1, 1, 2, 2, 1, 2, 0, 0, 1, 1, 0, 2, 2, 2, 2, 2, 2, 1, 2, 2, 2, 2, 0, 2, 2, 2, 2, 2, 2, 2, 2, 2, 2, 2, 2, 2, 2, 0, 2, 2, 0, 2, 2, 0, 2, 2, 2, 2, 2, 0, 2, 2, 2, 0, 2, 1, 0, 1, 1, 0, 0, 2, 1, 2, 2, 2, 2, 1, 1, 1, 2, 1, 0, 1, 1, 2, 2, 2, 2, 2, 0, 0, 1, 1, 1, 1, 1, 2, 0, 2, 2, 2, 2, 0, 2, 2, 1, 2, 1, 1, 1, 0, 2, 1, 2, 2, 2, 0, 2, 1, 1, 0, 1, 2, 2, 2, 2, 2, 0, 0, 0, 1, 2, 0, 1, 2, 0, 2, 0, 2, 0, 0, 2, 1, 2, 0, 0, 2, 1, 2, 2, 2, 1, 0, 1, 0, 0, 2, 0, 2, 0, 2]\n"
     ]
    }
   ],
   "source": [
    "print(label_reader.get_label_vector())"
   ]
  },
  {
   "cell_type": "code",
   "execution_count": 7,
   "metadata": {},
   "outputs": [
    {
     "name": "stdout",
     "output_type": "stream",
     "text": [
      "{1004: 'cell dies', 1006: 'grows dense', 1015: 'grows sparse', 1016: 'cell dies', 1018: 'grows sparse', 1019: 'cell dies', 1023: 'cell dies', 1027: 'grows sparse', 1036: 'grows sparse', 1037: 'grows sparse', 1046: 'grows sparse', 1055: 'cell dies', 1060: 'cell dies', 1062: 'grows sparse', 1063: 'cell dies', 1064: 'cell dies', 1078: 'grows sparse', 1086: 'grows dense', 1091: 'grows dense', 1098: 'cell dies', 1100: 'grows sparse', 1111: 'grows sparse', 1122: 'grows sparse', 1125: 'grows dense', 1130: 'cell dies', 1134: 'grows sparse', 1141: 'grows sparse', 1142: 'cell dies', 1146: 'cell dies', 1153: 'grows sparse', 1171: 'grows dense', 1175: 'grows sparse', 1176: 'grows sparse', 1187: 'grows sparse', 1194: 'grows dense', 1233: 'cell dies', 1242: 'cell dies', 1254: 'cell dies', 1265: 'grows sparse', 1303: 'grows sparse', 1324: 'grows sparse', 1327: 'cell dies', 1337: 'grows sparse', 1389: 'grows sparse', 1416: 'cell dies', 1432: 'grows sparse', 1457: 'grows dense', 1460: 'grows sparse', 1476: 'grows sparse', 1480: 'grows sparse', 1516: 'cell dies', 1520: 'grows sparse', 1524: 'grows sparse', 1569: 'grows dense', 1591: 'grows dense', 1600: 'cell dies', 1607: 'grows sparse', 1608: 'grows sparse', 1611: 'grows sparse', 1614: 'cell dies', 1622: 'grows sparse', 1644: 'grows dense', 1646: 'grows dense', 1667: 'grows sparse', 1672: 'cell dies', 1679: 'grows sparse', 1685: 'grows sparse', 1689: 'cell dies', 1693: 'grows dense', 1714: 'cell dies', 1719: 'grows sparse', 1733: 'grows sparse', 1736: 'grows sparse', 1739: 'cell dies', 1754: 'grows sparse', 1770: 'grows sparse', 1771: 'grows sparse', 1772: 'grows sparse', 1775: 'grows sparse', 1779: 'grows dense', 1784: 'grows sparse', 1785: 'grows sparse', 1786: 'grows sparse', 1791: 'grows sparse', 1794: 'grows sparse', 1801: 'grows sparse', 1804: 'grows sparse', 1806: 'grows sparse', 1807: 'grows dense', 1811: 'grows sparse', 1812: 'grows sparse', 1813: 'cell dies', 1815: 'grows sparse', 1819: 'grows sparse', 1824: 'grows sparse', 1825: 'cell dies', 1828: 'grows sparse', 1829: 'grows sparse', 1831: 'grows dense', 1833: 'grows sparse', 1835: 'grows sparse', 1838: 'grows sparse', 1848: 'grows sparse', 1849: 'grows sparse', 1853: 'grows dense', 1857: 'cell dies', 1859: 'grows sparse', 1863: 'grows dense', 1866: 'grows sparse', 1870: 'cell dies', 1876: 'grows dense', 1879: 'grows sparse', 1880: 'grows sparse', 1891: 'grows dense', 1893: 'grows sparse', 1900: 'grows sparse', 1906: 'grows sparse', 1913: 'grows sparse', 1918: 'grows dense', 1931: 'grows sparse', 1934: 'cell dies', 1939: 'grows dense', 1940: 'grows sparse', 1943: 'grows dense', 1945: 'grows sparse', 1947: 'cell dies', 1958: 'grows sparse', 1962: 'grows sparse', 1967: 'grows sparse', 1974: 'cell dies', 1977: 'cell dies', 1979: 'cell dies', 1983: 'grows sparse', 1992: 'grows dense', 1993: 'grows sparse', 1998: 'grows sparse', 2001: 'cell dies', 2011: 'grows sparse', 2017: 'grows sparse', 2018: 'grows sparse', 2023: 'grows sparse', 2029: 'grows sparse', 2031: 'grows sparse', 2032: 'grows sparse', 2040: 'grows sparse', 2046: 'grows sparse', 2082: 'grows sparse', 2091: 'grows sparse', 2094: 'grows dense', 2096: 'cell dies', 2099: 'cell dies', 2101: 'grows sparse', 2107: 'cell dies', 2111: 'grows sparse', 2114: 'grows sparse', 2122: 'grows sparse', 2124: 'grows dense', 2134: 'grows dense', 2135: 'grows sparse', 2137: 'grows sparse', 2147: 'cell dies', 2164: 'grows dense', 2179: 'grows sparse', 2193: 'grows sparse', 2194: 'grows sparse', 2199: 'grows dense', 2210: 'grows sparse', 2215: 'grows sparse', 2227: 'grows sparse', 2228: 'grows dense', 2231: 'cell dies', 2239: 'grows sparse', 2249: 'grows sparse', 2253: 'grows dense', 2278: 'grows sparse', 2285: 'cell dies', 2291: 'grows sparse', 2299: 'grows sparse', 2337: 'grows sparse', 2342: 'grows dense', 2344: 'grows sparse', 2346: 'cell dies', 2351: 'grows sparse', 2360: 'grows sparse', 2361: 'grows sparse', 2368: 'grows sparse', 2387: 'cell dies', 2388: 'grows dense', 2389: 'grows sparse', 2393: 'grows dense', 2397: 'grows sparse', 2406: 'grows sparse', 2408: 'grows sparse', 2414: 'grows sparse', 2417: 'grows sparse', 2424: 'grows sparse', 2432: 'grows sparse', 2438: 'grows sparse', 2484: 'grows sparse', 2501: 'grows dense', 2502: 'grows dense', 2541: 'grows sparse', 2543: 'grows sparse', 2569: 'grows dense', 2578: 'grows sparse', 2579: 'cell dies', 2625: 'cell dies', 2634: 'grows dense', 2640: 'grows dense', 2662: 'cell dies', 2666: 'grows sparse', 2684: 'grows sparse', 2693: 'grows sparse', 2751: 'grows sparse', 2800: 'grows sparse', 2810: 'grows sparse', 2820: 'grows dense', 2832: 'grows sparse', 2839: 'grows sparse', 2847: 'grows sparse', 2853: 'grows sparse', 2857: 'cell dies', 2862: 'grows sparse', 2866: 'grows sparse', 2870: 'grows sparse', 2881: 'grows sparse', 2891: 'grows sparse', 2899: 'grows sparse', 2920: 'grows sparse', 2939: 'grows sparse', 2942: 'grows sparse', 2955: 'grows sparse', 2971: 'grows sparse', 2972: 'grows sparse', 2986: 'grows sparse', 2991: 'grows sparse', 100: 'cell dies', 101: 'grows sparse', 111: 'grows sparse', 121: 'cell dies', 128: 'grows sparse', 134: 'grows sparse', 136: 'cell dies', 14: 'grows sparse', 153: 'grows sparse', 159: 'grows sparse', 167: 'grows sparse', 169: 'grows sparse', 17: 'cell dies', 183: 'grows sparse', 187: 'grows sparse', 197: 'grows sparse', 201: 'cell dies', 202: 'grows sparse', 206: 'grows dense', 221: 'cell dies', 242: 'grows dense', 250: 'grows dense', 255: 'cell dies', 257: 'cell dies', 269: 'grows sparse', 272: 'grows dense', 275: 'grows sparse', 278: 'grows sparse', 286: 'grows sparse', 29: 'grows sparse', 292: 'grows dense', 295: 'grows dense', 307: 'grows dense', 317: 'grows sparse', 321: 'grows dense', 325: 'cell dies', 326: 'grows dense', 329: 'grows dense', 331: 'grows sparse', 347: 'grows sparse', 355: 'grows sparse', 358: 'grows sparse', 360: 'grows sparse', 371: 'cell dies', 374: 'cell dies', 381: 'grows dense', 383: 'grows dense', 384: 'grows dense', 387: 'grows dense', 389: 'grows dense', 391: 'grows sparse', 399: 'cell dies', 412: 'grows sparse', 413: 'grows sparse', 418: 'grows sparse', 419: 'grows sparse', 42: 'cell dies', 424: 'grows sparse', 434: 'grows sparse', 450: 'grows dense', 451: 'grows sparse', 455: 'grows dense', 456: 'grows dense', 464: 'grows dense', 483: 'cell dies', 499: 'grows sparse', 517: 'grows dense', 518: 'grows sparse', 52: 'grows sparse', 522: 'grows sparse', 525: 'cell dies', 536: 'grows sparse', 54: 'grows dense', 542: 'grows dense', 548: 'cell dies', 559: 'grows dense', 561: 'grows sparse', 564: 'grows sparse', 569: 'grows sparse', 572: 'grows sparse', 579: 'grows sparse', 587: 'cell dies', 588: 'cell dies', 590: 'cell dies', 593: 'grows dense', 608: 'grows sparse', 614: 'cell dies', 62: 'grows dense', 623: 'grows sparse', 635: 'cell dies', 653: 'grows sparse', 667: 'cell dies', 67: 'grows sparse', 677: 'cell dies', 68: 'cell dies', 683: 'grows sparse', 695: 'grows dense', 696: 'grows sparse', 702: 'cell dies', 703: 'cell dies', 709: 'grows sparse', 723: 'grows dense', 724: 'grows sparse', 738: 'grows sparse', 739: 'grows sparse', 75: 'grows dense', 750: 'cell dies', 753: 'grows dense', 755: 'cell dies', 76: 'cell dies', 767: 'grows sparse', 785: 'cell dies', 91: 'grows sparse', 96: 'cell dies', 98: 'grows sparse'}\n"
     ]
    }
   ],
   "source": [
    "print(label_reader.get_label_map())"
   ]
  },
  {
   "cell_type": "code",
   "execution_count": 8,
   "metadata": {},
   "outputs": [
    {
     "name": "stdout",
     "output_type": "stream",
     "text": [
      "{'cell dies': 77, 'grows dense': 68, 'grows sparse': 206}\n"
     ]
    }
   ],
   "source": [
    "print(label_reader.get_class_distribution())"
   ]
  },
  {
   "cell_type": "code",
   "execution_count": 9,
   "metadata": {},
   "outputs": [
    {
     "name": "stdout",
     "output_type": "stream",
     "text": [
      "None\n"
     ]
    },
    {
     "data": {
      "image/png": "[encoded data removed]",
      "text/plain": [
       "<Figure size 432x288 with 1 Axes>"
      ]
     },
     "metadata": {
      "needs_background": "light"
     },
     "output_type": "display_data"
    }
   ],
   "source": [
    "print(label_reader.show_class_disribution_histogram())"
   ]
  },
  {
   "cell_type": "code",
   "execution_count": 10,
   "metadata": {},
   "outputs": [
    {
     "name": "stdout",
     "output_type": "stream",
     "text": [
      "[1004, 1006, 1015, 1016, 1018, 1019, 1023, 1027, 1036, 1037, 1046, 1055, 1060, 1062, 1063, 1064, 1078, 1086, 1091, 1098, 1100, 1111, 1122, 1125, 1130, 1134, 1141, 1142, 1146, 1153, 1171, 1175, 1176, 1187, 1194, 1233, 1242, 1254, 1265, 1303, 1324, 1327, 1337, 1389, 1416, 1432, 1457, 1460, 1476, 1480, 1516, 1520, 1524, 1569, 1591, 1600, 1607, 1608, 1611, 1614, 1622, 1644, 1646, 1667, 1672, 1679, 1685, 1689, 1693, 1714, 1719, 1733, 1736, 1739, 1754, 1770, 1771, 1772, 1775, 1779, 1784, 1785, 1786, 1791, 1794, 1801, 1804, 1806, 1807, 1811, 1812, 1813, 1815, 1819, 1824, 1825, 1828, 1829, 1831, 1833, 1835, 1838, 1848, 1849, 1853, 1857, 1859, 1863, 1866, 1870, 1876, 1879, 1880, 1891, 1893, 1900, 1906, 1913, 1918, 1931, 1934, 1939, 1940, 1943, 1945, 1947, 1958, 1962, 1967, 1974, 1977, 1979, 1983, 1992, 1993, 1998, 2001, 2011, 2017, 2018, 2023, 2029, 2031, 2032, 2040, 2046, 2082, 2091, 2094, 2096, 2099, 2101, 2107, 2111, 2114, 2122, 2124, 2134, 2135, 2137, 2147, 2164, 2179, 2193, 2194, 2199, 2210, 2215, 2227, 2228, 2231, 2239, 2249, 2253, 2278, 2285, 2291, 2299, 2337, 2342, 2344, 2346, 2351, 2360, 2361, 2368, 2387, 2388, 2389, 2393, 2397, 2406, 2408, 2414, 2417, 2424, 2432, 2438, 2484, 2501, 2502, 2541, 2543, 2569, 2578, 2579, 2625, 2634, 2640, 2662, 2666, 2684, 2693, 2751, 2800, 2810, 2820, 2832, 2839, 2847, 2853, 2857, 2862, 2866, 2870, 2881, 2891, 2899, 2920, 2939, 2942, 2955, 2971, 2972, 2986, 2991, 100, 101, 111, 121, 128, 134, 136, 14, 153, 159, 167, 169, 17, 183, 187, 197, 201, 202, 206, 221, 242, 250, 255, 257, 269, 272, 275, 278, 286, 29, 292, 295, 307, 317, 321, 325, 326, 329, 331, 347, 355, 358, 360, 371, 374, 381, 383, 384, 387, 389, 391, 399, 412, 413, 418, 419, 42, 424, 434, 450, 451, 455, 456, 464, 483, 499, 517, 518, 52, 522, 525, 536, 54, 542, 548, 559, 561, 564, 569, 572, 579, 587, 588, 590, 593, 608, 614, 62, 623, 635, 653, 667, 67, 677, 68, 683, 695, 696, 702, 703, 709, 723, 724, 738, 739, 75, 750, 753, 755, 76, 767, 785, 91, 96, 98]\n"
     ]
    }
   ],
   "source": [
    "print(label_reader.get_all_well_ids())"
   ]
  },
  {
   "cell_type": "code",
   "execution_count": null,
   "metadata": {},
   "outputs": [],
   "source": []
  },
  {
   "cell_type": "code",
   "execution_count": null,
   "metadata": {},
   "outputs": [],
   "source": []
  }
 ],
 "metadata": {
  "kernelspec": {
   "display_name": "Python 3",
   "language": "python",
   "name": "python3"
  },
  "language_info": {
   "codemirror_mode": {
    "name": "ipython",
    "version": 3
   },
   "file_extension": ".py",
   "mimetype": "text/x-python",
   "name": "python",
   "nbconvert_exporter": "python",
   "pygments_lexer": "ipython3",
   "version": "3.7.3"
  }
 },
 "nbformat": 4,
 "nbformat_minor": 2
}
