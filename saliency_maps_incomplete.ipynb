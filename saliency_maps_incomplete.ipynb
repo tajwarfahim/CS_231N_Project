{
 "cells": [
  {
   "cell_type": "code",
   "execution_count": 1,
   "metadata": {},
   "outputs": [],
   "source": [
    "# author: Fahim Tajwar\n",
    "# incomplete\n",
    "from label_loader import *\n",
    "from image_loader import *\n",
    "from util import *\n",
    "from models import *\n",
    "from model_trainer import *\n",
    "from dataset import *"
   ]
  },
  {
   "cell_type": "code",
   "execution_count": 2,
   "metadata": {},
   "outputs": [
    {
     "name": "stdout",
     "output_type": "stream",
     "text": [
      "set(['cell dies', 'grows dense', 'grows sparse'])\n",
      "{'cell dies': 0, 'grows dense': 1, 'grows sparse': 2}\n",
      "tensor([0.0260, 0.0294, 0.0097])\n"
     ]
    }
   ],
   "source": [
    "file_name_1 = '../data/labels_cells_only.xlsx'\n",
    "file_name_2 = '../data/classes_800.xlsx'\n",
    "file_names = [file_name_1, file_name_2]\n",
    "\n",
    "label_reader = Label_Reader(file_names)\n",
    "weight_vector = label_reader.get_weight_vector()\n",
    "print(label_reader.get_all_labels())\n",
    "print(label_reader.get_label_to_label_id_map())\n",
    "print(weight_vector)"
   ]
  },
  {
   "cell_type": "code",
   "execution_count": 3,
   "metadata": {},
   "outputs": [
    {
     "name": "stdout",
     "output_type": "stream",
     "text": [
      "torch.Size([351, 3, 224, 224])\n",
      "{14: 243, 17: 248, 29: 265, 2082: 146, 42: 292, 2091: 147, 2094: 148, 2096: 149, 2099: 150, 52: 304, 2101: 151, 54: 308, 2107: 152, 62: 323, 2111: 153, 2114: 154, 67: 328, 68: 330, 2122: 155, 75: 341, 2124: 156, 2134: 157, 2135: 158, 2137: 159, 91: 348, 96: 349, 98: 350, 2147: 160, 100: 236, 101: 237, 111: 238, 360: 278, 2164: 161, 121: 239, 2751: 213, 128: 240, 2179: 162, 134: 241, 136: 242, 2193: 163, 2194: 164, 2199: 165, 153: 244, 159: 245, 2210: 166, 2215: 167, 169: 247, 2227: 168, 2228: 169, 183: 249, 187: 250, 2239: 171, 197: 251, 2249: 172, 202: 253, 2253: 173, 206: 254, 221: 255, 2278: 174, 2285: 175, 242: 256, 2291: 176, 250: 257, 2299: 177, 255: 258, 257: 259, 269: 260, 272: 261, 275: 262, 278: 263, 286: 264, 2337: 178, 292: 266, 2342: 179, 295: 267, 2344: 180, 2346: 181, 2351: 182, 307: 268, 2360: 183, 2361: 184, 317: 269, 2368: 185, 321: 270, 325: 271, 326: 272, 329: 273, 331: 274, 2387: 186, 2388: 187, 2389: 188, 2393: 189, 347: 275, 2397: 190, 355: 276, 358: 277, 2408: 192, 2414: 193, 2417: 194, 371: 279, 374: 280, 2424: 195, 381: 281, 383: 282, 384: 283, 387: 284, 389: 285, 2438: 197, 391: 286, 399: 287, 412: 288, 413: 289, 418: 290, 419: 291, 424: 293, 434: 294, 2484: 198, 450: 295, 451: 296, 2501: 199, 2502: 200, 455: 297, 456: 298, 76: 345, 464: 299, 483: 300, 2541: 201, 2543: 202, 499: 301, 517: 302, 518: 303, 2569: 203, 522: 305, 525: 306, 2578: 204, 2579: 205, 536: 307, 542: 309, 548: 310, 559: 311, 561: 312, 564: 313, 569: 314, 572: 315, 2625: 206, 579: 316, 2406: 191, 2634: 207, 587: 317, 588: 318, 590: 319, 2640: 208, 593: 320, 608: 321, 2662: 209, 2666: 210, 623: 324, 635: 325, 2684: 211, 2693: 212, 653: 326, 667: 327, 677: 329, 683: 331, 695: 332, 696: 333, 702: 334, 703: 335, 709: 336, 723: 337, 724: 338, 738: 339, 739: 340, 750: 342, 2800: 214, 753: 343, 755: 344, 2810: 215, 767: 346, 2820: 216, 2832: 217, 785: 347, 2839: 218, 2847: 219, 2853: 220, 2857: 221, 2862: 222, 2866: 223, 2870: 224, 2881: 225, 2891: 226, 2899: 227, 2920: 228, 2939: 229, 2942: 230, 2955: 231, 2971: 232, 2972: 233, 2986: 234, 2991: 235, 167: 246, 1004: 0, 1006: 1, 1015: 2, 1016: 3, 1018: 4, 1019: 5, 1023: 6, 1027: 7, 1036: 8, 1037: 9, 1046: 10, 1055: 11, 1060: 12, 1062: 13, 1063: 14, 1064: 15, 1078: 16, 1086: 17, 1091: 18, 1098: 19, 2231: 170, 1100: 20, 1111: 21, 1122: 22, 1125: 23, 1130: 24, 1134: 25, 1141: 26, 1142: 27, 1146: 28, 1153: 29, 1171: 30, 1175: 31, 1176: 32, 1187: 33, 1194: 34, 201: 252, 1233: 35, 1242: 36, 1254: 37, 1265: 38, 1303: 39, 1324: 40, 1327: 41, 1337: 42, 2432: 196, 1389: 43, 1416: 44, 1432: 45, 1457: 46, 1460: 47, 1476: 48, 1480: 49, 1516: 50, 1520: 51, 1524: 52, 1569: 53, 1591: 54, 1600: 55, 1607: 56, 1608: 57, 1611: 58, 1614: 59, 1622: 60, 614: 322, 1644: 61, 1646: 62, 1667: 63, 1672: 64, 1679: 65, 1685: 66, 1689: 67, 1693: 68, 1714: 69, 1719: 70, 1733: 71, 1736: 72, 1739: 73, 1754: 74, 1770: 75, 1771: 76, 1772: 77, 1775: 78, 1779: 79, 1784: 80, 1785: 81, 1786: 82, 1791: 83, 1794: 84, 1801: 85, 1804: 86, 1806: 87, 1807: 88, 1811: 89, 1812: 90, 1813: 91, 1815: 92, 1819: 93, 1824: 94, 1825: 95, 1828: 96, 1829: 97, 1831: 98, 1833: 99, 1835: 100, 1838: 101, 1848: 102, 1849: 103, 1853: 104, 1857: 105, 1859: 106, 1863: 107, 1866: 108, 1870: 109, 1876: 110, 1879: 111, 1880: 112, 1891: 113, 1893: 114, 1900: 115, 1906: 116, 1913: 117, 1918: 118, 1931: 119, 1934: 120, 1939: 121, 1940: 122, 1943: 123, 1945: 124, 1947: 125, 1958: 126, 1962: 127, 1967: 128, 1974: 129, 1977: 130, 1979: 131, 1983: 132, 1992: 133, 1993: 134, 1998: 135, 2001: 136, 2011: 137, 2017: 138, 2018: 139, 2023: 140, 2029: 141, 2031: 142, 2032: 143, 2040: 144, 2046: 145}\n"
     ]
    }
   ],
   "source": [
    "prefix = \"../data/well2_data/well\"\n",
    "suffix = \"_well.png\"\n",
    "\n",
    "all_well_ids = label_reader.get_all_well_ids()\n",
    "si = Single_Image_Loader(5, all_well_ids, prefix, suffix)\n",
    "tensor = si.get_image_tensor()\n",
    "well_id_to_image_id_map = si.get_well_to_image_id_map()\n",
    "print(tensor.shape)\n",
    "print(well_id_to_image_id_map)"
   ]
  },
  {
   "cell_type": "code",
   "execution_count": 4,
   "metadata": {},
   "outputs": [
    {
     "name": "stdout",
     "output_type": "stream",
     "text": [
      "{14: 2, 17: 0, 29: 2, 2082: 2, 42: 0, 2091: 2, 2094: 1, 2096: 0, 2099: 0, 52: 2, 2101: 2, 54: 1, 2107: 0, 62: 1, 2111: 2, 2114: 2, 67: 2, 68: 0, 2122: 2, 75: 1, 2124: 1, 2134: 1, 2135: 2, 2137: 2, 91: 2, 96: 0, 98: 2, 2147: 0, 100: 0, 101: 2, 111: 2, 360: 2, 2164: 1, 121: 0, 2751: 2, 128: 2, 2179: 2, 134: 2, 136: 0, 2193: 2, 2194: 2, 2199: 1, 153: 2, 159: 2, 2210: 2, 2215: 2, 169: 2, 2227: 2, 2228: 1, 183: 2, 187: 2, 2239: 2, 197: 2, 2249: 2, 202: 2, 2253: 1, 206: 1, 221: 0, 2278: 2, 2285: 0, 242: 1, 2291: 2, 250: 1, 2299: 2, 255: 0, 257: 0, 269: 2, 272: 1, 275: 2, 278: 2, 286: 2, 2337: 2, 292: 1, 2342: 1, 295: 1, 2344: 2, 2346: 0, 2351: 2, 307: 1, 2360: 2, 2361: 2, 317: 2, 2368: 2, 321: 1, 325: 0, 326: 1, 329: 1, 331: 2, 2387: 0, 2388: 1, 2389: 2, 2393: 1, 347: 2, 2397: 2, 355: 2, 358: 2, 2408: 2, 2414: 2, 2417: 2, 371: 0, 374: 0, 2424: 2, 381: 1, 383: 1, 384: 1, 387: 1, 389: 1, 2438: 2, 391: 2, 399: 0, 412: 2, 413: 2, 418: 2, 419: 2, 424: 2, 434: 2, 2484: 2, 450: 1, 451: 2, 2501: 1, 2502: 1, 455: 1, 456: 1, 76: 0, 464: 1, 483: 0, 2541: 2, 2543: 2, 499: 2, 517: 1, 518: 2, 2569: 1, 522: 2, 525: 0, 2578: 2, 2579: 0, 536: 2, 542: 1, 548: 0, 559: 1, 561: 2, 564: 2, 569: 2, 572: 2, 2625: 0, 579: 2, 2406: 2, 2634: 1, 587: 0, 588: 0, 590: 0, 2640: 1, 593: 1, 608: 2, 2662: 0, 2666: 2, 623: 2, 635: 0, 2684: 2, 2693: 2, 653: 2, 667: 0, 677: 0, 683: 2, 695: 1, 696: 2, 702: 0, 703: 0, 709: 2, 723: 1, 724: 2, 738: 2, 739: 2, 750: 0, 2800: 2, 753: 1, 755: 0, 2810: 2, 767: 2, 2820: 1, 2832: 2, 785: 0, 2839: 2, 2847: 2, 2853: 2, 2857: 0, 2862: 2, 2866: 2, 2870: 2, 2881: 2, 2891: 2, 2899: 2, 2920: 2, 2939: 2, 2942: 2, 2955: 2, 2971: 2, 2972: 2, 2986: 2, 2991: 2, 167: 2, 1004: 0, 1006: 1, 1015: 2, 1016: 0, 1018: 2, 1019: 0, 1023: 0, 1027: 2, 1036: 2, 1037: 2, 1046: 2, 1055: 0, 1060: 0, 1062: 2, 1063: 0, 1064: 0, 1078: 2, 1086: 1, 1091: 1, 1098: 0, 2231: 0, 1100: 2, 1111: 2, 1122: 2, 1125: 1, 1130: 0, 1134: 2, 1141: 2, 1142: 0, 1146: 0, 1153: 2, 1171: 1, 1175: 2, 1176: 2, 1187: 2, 1194: 1, 201: 0, 1233: 0, 1242: 0, 1254: 0, 1265: 2, 1303: 2, 1324: 2, 1327: 0, 1337: 2, 2432: 2, 1389: 2, 1416: 0, 1432: 2, 1457: 1, 1460: 2, 1476: 2, 1480: 2, 1516: 0, 1520: 2, 1524: 2, 1569: 1, 1591: 1, 1600: 0, 1607: 2, 1608: 2, 1611: 2, 1614: 0, 1622: 2, 614: 0, 1644: 1, 1646: 1, 1667: 2, 1672: 0, 1679: 2, 1685: 2, 1689: 0, 1693: 1, 1714: 0, 1719: 2, 1733: 2, 1736: 2, 1739: 0, 1754: 2, 1770: 2, 1771: 2, 1772: 2, 1775: 2, 1779: 1, 1784: 2, 1785: 2, 1786: 2, 1791: 2, 1794: 2, 1801: 2, 1804: 2, 1806: 2, 1807: 1, 1811: 2, 1812: 2, 1813: 0, 1815: 2, 1819: 2, 1824: 2, 1825: 0, 1828: 2, 1829: 2, 1831: 1, 1833: 2, 1835: 2, 1838: 2, 1848: 2, 1849: 2, 1853: 1, 1857: 0, 1859: 2, 1863: 1, 1866: 2, 1870: 0, 1876: 1, 1879: 2, 1880: 2, 1891: 1, 1893: 2, 1900: 2, 1906: 2, 1913: 2, 1918: 1, 1931: 2, 1934: 0, 1939: 1, 1940: 2, 1943: 1, 1945: 2, 1947: 0, 1958: 2, 1962: 2, 1967: 2, 1974: 0, 1977: 0, 1979: 0, 1983: 2, 1992: 1, 1993: 2, 1998: 2, 2001: 0, 2011: 2, 2017: 2, 2018: 2, 2023: 2, 2029: 2, 2031: 2, 2032: 2, 2040: 2, 2046: 2}\n",
      "351\n",
      "[ 121 1983 1866 1906 1833  536 1835  286 2193 2111 1015  111 1733 1516\n",
      " 1775  275  579  413  412  384  522 1931 1900  317   29 2228 2231 2134\n",
      " 1857 2866   17   91 2091 2891 2094  257 1967 2179 2991 2920  242  667\n",
      " 2194 1943 1771 2569  183 1324 1804  419 1754  169  360  295 1064 1611\n",
      " 1086 1945 1018  587  702 1242  269 1992 1254  456 2432  391 2164  517\n",
      " 1134 1838 1719 1122  724 2389 1175  464 2114  653 1457 1829 2800  201\n",
      "  221 2031 1141 1327  588 1062 1849 1187  187  399 2839 1125  518 2438\n",
      " 2414  381 1853  614 2406  197 2857 1831 1644 1569 1607 1819 2853 1520\n",
      "  483  128 1812  250 1078 2199 2972 1891 2397 2662 1098 1016  559 2862\n",
      " 2870  753  455 1977 2408 2082 1600 1194 2387  623 1460 1063  358   98\n",
      "  542 2820 2640 1027 2291 2684 2424 1142 2342  451   62 1060   76  590\n",
      " 2017   67 2955 1714  703 2011  371 2096  387  383  569 1524 2215  525\n",
      " 1848  561 1828 1736 1646  696 2018 1476 2351 2388 2942 2299  136  202\n",
      " 1303 1091  326 1880 2634  389 1171 2147  548  331 1672 2543 1591 2393\n",
      " 1679  723 2579 1153  325 1233 1791  159 2939 2285  785 2032 1879 1998\n",
      " 1974 1265 1801 1046 1006 1739 2099 1023   14 1918 2368 1958 1863 1480\n",
      " 2346 2986 1685 1036  418  677 2239 2810 1004 2751 2227  750  329  101\n",
      " 1176 2666  100  738 1876  292 1811  767 1824  572 2253  608 2541  695\n",
      " 1055 2484   54 2578  635 1962  755 1794 2899 2361 2501 1815  424 2693\n",
      " 2107 1037 1432  278 1813 1337 2344 1940 2124 1693   42 2046 1979 1772\n",
      " 2278  134 2971  739 2832 1825   75 2137  153 2502  255  374 1614 2847\n",
      "  593  321 1779 2029  564 2417 1100 1893 1806  683 1770 1784  434 1785\n",
      " 1934  272 2625   52 1689 1608 1416  709   68 1913 2135 2360 2023 1870\n",
      "  307 1019 2337 2210 1939 1993 1807 1130  167 1622 1786 1947 2101  450\n",
      " 2001 1146 1667 1859  206 1111   96  347  499 1389 2249 2881 2122  355\n",
      " 2040]\n",
      "35\n",
      "351\n"
     ]
    }
   ],
   "source": [
    "input_size = 3 * 224 * 224\n",
    "num_classes = 3\n",
    "\n",
    "label_to_label_id = label_reader.label_to_label_id\n",
    "label_id_to_label_map = label_reader.get_label_id_to_label_map()\n",
    "#print(label_id_to_label_map)\n",
    "\n",
    "Y_label = label_reader.get_label_map()\n",
    "for key in Y_label:\n",
    "    Y_label[key] = label_to_label_id[Y_label[key]]\n",
    "\n",
    "print(Y_label)\n",
    "\n",
    "label_id_train, label_id_val, label_id_test = get_dataset_split(Y_label)\n",
    "print(len(label_id_train))\n",
    "print(label_id_train)\n",
    "print(len(label_id_val))\n",
    "print(len(label_id_train))"
   ]
  },
  {
   "cell_type": "code",
   "execution_count": 5,
   "metadata": {},
   "outputs": [
    {
     "name": "stdout",
     "output_type": "stream",
     "text": [
      "torch.Size([351, 3, 224, 224])\n",
      "torch.Size([351])\n"
     ]
    }
   ],
   "source": [
    "X, y = get_X_and_y_tensors_for_saliency_map(tensor, Y_label, well_id_to_image_id_map)\n",
    "print(X.shape)\n",
    "print(y.shape)"
   ]
  },
  {
   "cell_type": "code",
   "execution_count": 6,
   "metadata": {},
   "outputs": [],
   "source": [
    "training_set = Augmented_Dataset(tensor, label_id_train, Y_label, well_id_to_image_id_map, \n",
    "                                 final_transformation_choice)\n",
    "validation_set = Augmented_Dataset(tensor, label_id_val, Y_label, well_id_to_image_id_map, transform_normalization)\n",
    "test_set = Augmented_Dataset(tensor, label_id_test, Y_label, well_id_to_image_id_map, transform_normalization)"
   ]
  },
  {
   "cell_type": "code",
   "execution_count": 7,
   "metadata": {},
   "outputs": [],
   "source": [
    "training_batch_size = 351\n",
    "validation_batch_size = 1\n",
    "test_batch_size = 1\n",
    "learning_rate = 0.0001\n",
    "\n",
    "validation_loader = torch.utils.data.DataLoader(dataset = validation_set, \n",
    "                                          batch_size = validation_batch_size, \n",
    "                                          shuffle = False)\n",
    "test_loader = torch.utils.data.DataLoader(dataset = test_set, \n",
    "                                          batch_size = test_batch_size, \n",
    "                                          shuffle = False)"
   ]
  },
  {
   "cell_type": "code",
   "execution_count": 8,
   "metadata": {},
   "outputs": [],
   "source": [
    "conv_net_1 = Our2DConvNetDesign1(num_classes = 3)\n",
    "model_1 = Model(conv_net_1, training_set, training_batch_size, learning_rate, label_id_to_label_map, \n",
    "              weight = weight_vector, imbalanced_class = True, num_epochs = 5, verbose = True)"
   ]
  },
  {
   "cell_type": "code",
   "execution_count": 9,
   "metadata": {},
   "outputs": [
    {
     "name": "stdout",
     "output_type": "stream",
     "text": [
      "Epoch: [1/5], Loss: 1.1671\n",
      "Epoch: [2/5], Loss: 1.1866\n",
      "Epoch: [3/5], Loss: 1.1360\n",
      "Epoch: [4/5], Loss: 1.1641\n",
      "Epoch: [5/5], Loss: 1.1860\n",
      "Training done!\n"
     ]
    },
    {
     "data": {
      "image/png": "[encoded data removed]",
      "text/plain": [
       "<Figure size 432x288 with 1 Axes>"
      ]
     },
     "metadata": {},
     "output_type": "display_data"
    },
    {
     "name": "stdout",
     "output_type": "stream",
     "text": [
      "accuracy : 34.000000\n",
      "\n",
      "('Frequency per class: ', {'cell dies': 77, 'grows dense': 68, 'grows sparse': 206})\n"
     ]
    },
    {
     "data": {
      "image/png": "[encoded data removed]",
      "text/plain": [
       "<Figure size 432x288 with 1 Axes>"
      ]
     },
     "metadata": {},
     "output_type": "display_data"
    },
    {
     "name": "stdout",
     "output_type": "stream",
     "text": [
      "('Number of datapoints we got correct per class', {'cell dies': 18, 'grows dense': 23, 'grows sparse': 79})\n",
      "('Accuracy per class', {'cell dies': 0.23376623376623376, 'grows dense': 0.3382352941176471, 'grows sparse': 0.38349514563106796})\n"
     ]
    },
    {
     "data": {
      "image/png": "[encoded data removed]",
      "text/plain": [
       "<Figure size 432x288 with 1 Axes>"
      ]
     },
     "metadata": {},
     "output_type": "display_data"
    },
    {
     "data": {
      "text/plain": [
       "0.030322190659140977"
      ]
     },
     "execution_count": 9,
     "metadata": {},
     "output_type": "execute_result"
    }
   ],
   "source": [
    "model_1.train()"
   ]
  },
  {
   "cell_type": "code",
   "execution_count": 10,
   "metadata": {},
   "outputs": [
    {
     "data": {
      "image/png": "[encoded data removed]",
      "text/plain": [
       "<Figure size 864x360 with 4 Axes>"
      ]
     },
     "metadata": {},
     "output_type": "display_data"
    }
   ],
   "source": [
    "show_saliency_maps(X, y, model_1.get_trained_model())"
   ]
  },
  {
   "cell_type": "code",
   "execution_count": null,
   "metadata": {},
   "outputs": [],
   "source": []
  }
 ],
 "metadata": {
  "kernelspec": {
   "display_name": "Python 2",
   "language": "python",
   "name": "python2"
  },
  "language_info": {
   "codemirror_mode": {
    "name": "ipython",
    "version": 2
   },
   "file_extension": ".py",
   "mimetype": "text/x-python",
   "name": "python",
   "nbconvert_exporter": "python",
   "pygments_lexer": "ipython2",
   "version": "2.7.12"
  }
 },
 "nbformat": 4,
 "nbformat_minor": 2
}
