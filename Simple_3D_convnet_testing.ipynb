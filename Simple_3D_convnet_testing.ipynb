{
 "cells": [
  {
   "cell_type": "code",
   "execution_count": 1,
   "metadata": {},
   "outputs": [],
   "source": [
    "# author: Fahim Tajwar\n",
    "\n",
    "from label_loader import *\n",
    "from image_loader import *\n",
    "from util import *\n",
    "from models import *\n",
    "from model_trainer import *\n",
    "from dataset import *"
   ]
  },
  {
   "cell_type": "code",
   "execution_count": 2,
   "metadata": {},
   "outputs": [
    {
     "name": "stdout",
     "output_type": "stream",
     "text": [
      "{'cell dies', 'grows dense', 'grows sparse'}\n",
      "{'cell dies': 0, 'grows dense': 1, 'grows sparse': 2}\n",
      "tensor([0.0260, 0.0294, 0.0097])\n"
     ]
    }
   ],
   "source": [
    "file_name_1 = '/Users/fahimtajwar/Academics/cs231/labels_cells_only.xlsx'\n",
    "file_name_2 = '/Users/fahimtajwar/Academics/cs231/classes_800.xlsx'\n",
    "file_names = [file_name_1, file_name_2]\n",
    "\n",
    "label_reader = Label_Reader(file_names)\n",
    "weight_vector = label_reader.get_weight_vector()\n",
    "print(label_reader.get_all_labels())\n",
    "print(label_reader.get_label_to_label_id_map())\n",
    "print(weight_vector)"
   ]
  },
  {
   "cell_type": "code",
   "execution_count": 3,
   "metadata": {},
   "outputs": [
    {
     "name": "stdout",
     "output_type": "stream",
     "text": [
      "Number of classes :  3\n"
     ]
    }
   ],
   "source": [
    "num_classes = len(label_reader.get_all_labels())\n",
    "print(\"Number of classes : \",  num_classes)"
   ]
  },
  {
   "cell_type": "code",
   "execution_count": 4,
   "metadata": {},
   "outputs": [
    {
     "name": "stdout",
     "output_type": "stream",
     "text": [
      "torch.Size([351, 3, 5, 224, 224])\n",
      "{1004: 0, 1006: 1, 1015: 2, 1016: 3, 1018: 4, 1019: 5, 1023: 6, 1027: 7, 1036: 8, 1037: 9, 1046: 10, 1055: 11, 1060: 12, 1062: 13, 1063: 14, 1064: 15, 1078: 16, 1086: 17, 1091: 18, 1098: 19, 1100: 20, 1111: 21, 1122: 22, 1125: 23, 1130: 24, 1134: 25, 1141: 26, 1142: 27, 1146: 28, 1153: 29, 1171: 30, 1175: 31, 1176: 32, 1187: 33, 1194: 34, 1233: 35, 1242: 36, 1254: 37, 1265: 38, 1303: 39, 1324: 40, 1327: 41, 1337: 42, 1389: 43, 1416: 44, 1432: 45, 1457: 46, 1460: 47, 1476: 48, 1480: 49, 1516: 50, 1520: 51, 1524: 52, 1569: 53, 1591: 54, 1600: 55, 1607: 56, 1608: 57, 1611: 58, 1614: 59, 1622: 60, 1644: 61, 1646: 62, 1667: 63, 1672: 64, 1679: 65, 1685: 66, 1689: 67, 1693: 68, 1714: 69, 1719: 70, 1733: 71, 1736: 72, 1739: 73, 1754: 74, 1770: 75, 1771: 76, 1772: 77, 1775: 78, 1779: 79, 1784: 80, 1785: 81, 1786: 82, 1791: 83, 1794: 84, 1801: 85, 1804: 86, 1806: 87, 1807: 88, 1811: 89, 1812: 90, 1813: 91, 1815: 92, 1819: 93, 1824: 94, 1825: 95, 1828: 96, 1829: 97, 1831: 98, 1833: 99, 1835: 100, 1838: 101, 1848: 102, 1849: 103, 1853: 104, 1857: 105, 1859: 106, 1863: 107, 1866: 108, 1870: 109, 1876: 110, 1879: 111, 1880: 112, 1891: 113, 1893: 114, 1900: 115, 1906: 116, 1913: 117, 1918: 118, 1931: 119, 1934: 120, 1939: 121, 1940: 122, 1943: 123, 1945: 124, 1947: 125, 1958: 126, 1962: 127, 1967: 128, 1974: 129, 1977: 130, 1979: 131, 1983: 132, 1992: 133, 1993: 134, 1998: 135, 2001: 136, 2011: 137, 2017: 138, 2018: 139, 2023: 140, 2029: 141, 2031: 142, 2032: 143, 2040: 144, 2046: 145, 2082: 146, 2091: 147, 2094: 148, 2096: 149, 2099: 150, 2101: 151, 2107: 152, 2111: 153, 2114: 154, 2122: 155, 2124: 156, 2134: 157, 2135: 158, 2137: 159, 2147: 160, 2164: 161, 2179: 162, 2193: 163, 2194: 164, 2199: 165, 2210: 166, 2215: 167, 2227: 168, 2228: 169, 2231: 170, 2239: 171, 2249: 172, 2253: 173, 2278: 174, 2285: 175, 2291: 176, 2299: 177, 2337: 178, 2342: 179, 2344: 180, 2346: 181, 2351: 182, 2360: 183, 2361: 184, 2368: 185, 2387: 186, 2388: 187, 2389: 188, 2393: 189, 2397: 190, 2406: 191, 2408: 192, 2414: 193, 2417: 194, 2424: 195, 2432: 196, 2438: 197, 2484: 198, 2501: 199, 2502: 200, 2541: 201, 2543: 202, 2569: 203, 2578: 204, 2579: 205, 2625: 206, 2634: 207, 2640: 208, 2662: 209, 2666: 210, 2684: 211, 2693: 212, 2751: 213, 2800: 214, 2810: 215, 2820: 216, 2832: 217, 2839: 218, 2847: 219, 2853: 220, 2857: 221, 2862: 222, 2866: 223, 2870: 224, 2881: 225, 2891: 226, 2899: 227, 2920: 228, 2939: 229, 2942: 230, 2955: 231, 2971: 232, 2972: 233, 2986: 234, 2991: 235, 100: 236, 101: 237, 111: 238, 121: 239, 128: 240, 134: 241, 136: 242, 14: 243, 153: 244, 159: 245, 167: 246, 169: 247, 17: 248, 183: 249, 187: 250, 197: 251, 201: 252, 202: 253, 206: 254, 221: 255, 242: 256, 250: 257, 255: 258, 257: 259, 269: 260, 272: 261, 275: 262, 278: 263, 286: 264, 29: 265, 292: 266, 295: 267, 307: 268, 317: 269, 321: 270, 325: 271, 326: 272, 329: 273, 331: 274, 347: 275, 355: 276, 358: 277, 360: 278, 371: 279, 374: 280, 381: 281, 383: 282, 384: 283, 387: 284, 389: 285, 391: 286, 399: 287, 412: 288, 413: 289, 418: 290, 419: 291, 42: 292, 424: 293, 434: 294, 450: 295, 451: 296, 455: 297, 456: 298, 464: 299, 483: 300, 499: 301, 517: 302, 518: 303, 52: 304, 522: 305, 525: 306, 536: 307, 54: 308, 542: 309, 548: 310, 559: 311, 561: 312, 564: 313, 569: 314, 572: 315, 579: 316, 587: 317, 588: 318, 590: 319, 593: 320, 608: 321, 614: 322, 62: 323, 623: 324, 635: 325, 653: 326, 667: 327, 67: 328, 677: 329, 68: 330, 683: 331, 695: 332, 696: 333, 702: 334, 703: 335, 709: 336, 723: 337, 724: 338, 738: 339, 739: 340, 75: 341, 750: 342, 753: 343, 755: 344, 76: 345, 767: 346, 785: 347, 91: 348, 96: 349, 98: 350}\n"
     ]
    }
   ],
   "source": [
    "prefix = \"/Users/fahimtajwar/Academics/cs231/project_data_well_2/well2_data/well\"\n",
    "suffix = \"_well.png\"\n",
    "\n",
    "all_well_ids = label_reader.get_all_well_ids()\n",
    "ti = TimeCourse_Image_Loader(1, 5, all_well_ids, prefix, suffix)\n",
    "tensor = ti.get_image_tensor()\n",
    "well_id_to_image_id_map = ti.get_well_to_image_id_map()\n",
    "print(tensor.shape)\n",
    "print(well_id_to_image_id_map)"
   ]
  },
  {
   "cell_type": "code",
   "execution_count": 5,
   "metadata": {},
   "outputs": [
    {
     "name": "stdout",
     "output_type": "stream",
     "text": [
      "280\n",
      "[1945 1004 1794 2249 1098 1015  399  101  525 2942 2920 2393 2955   14\n",
      " 2640 2820  753 2228 1086  419 1622  286 1979   17 1524 1460 1233  326\n",
      " 1153 1062   96 1870 1983  517  561 1416 2239 2751 2199 1337 2397  255\n",
      " 1146  100 1100 2389 1785 1078 1130 1122 1141 2346  499 1303  695 1998\n",
      " 2299 2210 2101 1893 1046 1940   98 1829 1569 2029 1679  653  153  307\n",
      " 1825 2388  767  360 1389 1833 2991 2337  413  750  588  785 1992 1779\n",
      " 2847 2253  483 1064  518 2857   29 1993 2810 2122 2501  325  371  358\n",
      " 1516 1171  391 2018 1801  559 1027  564 2360 1091 2032 1018 1714 2634\n",
      " 1962  269 1879  197 1672 1685 2839 2040  381 1689  455 1848  569 2543\n",
      " 2194  121 1591  667 2096 1254  536 2082  321 2137 1863 1019 2134 1733\n",
      " 2424  614   42  703 1242 2094 1913 2387 1063 2569 2231 1194  572 1111\n",
      " 2484 2684 1838  593 1876 2438  329 2972 1786  167 1037  608 2351 2693\n",
      " 1804 2578 1006  522 2579  136 1947 2099 2107  295 2939 1866 1736 1906\n",
      "  257 1055 1667 1771  159 1327 1036 2666 2285  623 2344  187  696 1828\n",
      " 1520 2899 2800 1176  450 1772  128 2023 2011   67 2832  202 1849  542\n",
      " 1719 1600 1644 2432  292 1831   54 1974 1016  250 1931 1813 1784 2342\n",
      "  201 1943  242  587 2408 1023 1824 1611 1142 1614  374  709 1432 2278\n",
      " 1859  464 2853 1958   91 2031 2291 2111  384  723  677 1977 2227 2866\n",
      "   75  317 1175  169 1811 1739  548  387 2046  383 2017  724  275 1812\n",
      " 1775 2870   52 2124 2891   68 1900  111 1770 1607 1791  221 2361 2406]\n",
      "35\n",
      "280\n"
     ]
    }
   ],
   "source": [
    "input_size = 3 * 224 * 224 * 5\n",
    "num_classes = 3\n",
    "\n",
    "label_to_label_id = label_reader.label_to_label_id\n",
    "label_id_to_label_map = label_reader.get_label_id_to_label_map()\n",
    "#print(label_id_to_label_map)\n",
    "\n",
    "Y_label = label_reader.get_label_map()\n",
    "for key in Y_label:\n",
    "    Y_label[key] = label_to_label_id[Y_label[key]]\n",
    "\n",
    "#print(Y_label)\n",
    "\n",
    "label_id_train, label_id_val, label_id_test = get_dataset_split(Y_label)\n",
    "print(len(label_id_train))\n",
    "print(label_id_train)\n",
    "print(len(label_id_val))\n",
    "print(len(label_id_train))"
   ]
  },
  {
   "cell_type": "code",
   "execution_count": 6,
   "metadata": {},
   "outputs": [],
   "source": [
    "training_set = Dataset(tensor, label_id_train, Y_label, well_id_to_image_id_map)\n",
    "validation_set = Dataset(tensor, label_id_val, Y_label, well_id_to_image_id_map)\n",
    "test_set = Dataset(tensor, label_id_test, Y_label, well_id_to_image_id_map)"
   ]
  },
  {
   "cell_type": "code",
   "execution_count": 7,
   "metadata": {},
   "outputs": [],
   "source": [
    "training_batch_size = 320\n",
    "validation_batch_size = 1\n",
    "test_batch_size = 1\n",
    "learning_rate = 0.0001\n",
    "\n",
    "validation_loader = torch.utils.data.DataLoader(dataset = validation_set, \n",
    "                                          batch_size = validation_batch_size, \n",
    "                                          shuffle = False)\n",
    "test_loader = torch.utils.data.DataLoader(dataset = test_set, \n",
    "                                          batch_size = test_batch_size, \n",
    "                                          shuffle = False)"
   ]
  },
  {
   "cell_type": "code",
   "execution_count": 8,
   "metadata": {},
   "outputs": [],
   "source": [
    "conv_net_3D = Simple3DConvNet()\n",
    "model = Model(conv_net_3D, training_set, training_batch_size, learning_rate, label_id_to_label_map, \n",
    "              weight = weight_vector, imbalanced_class = True, num_epochs = 30, verbose = True)"
   ]
  },
  {
   "cell_type": "code",
   "execution_count": null,
   "metadata": {},
   "outputs": [],
   "source": [
    "model.train()"
   ]
  },
  {
   "cell_type": "code",
   "execution_count": null,
   "metadata": {},
   "outputs": [],
   "source": []
  }
 ],
 "metadata": {
  "kernelspec": {
   "display_name": "Python 2",
   "language": "python",
   "name": "python2"
  },
  "language_info": {
   "codemirror_mode": {
    "name": "ipython",
    "version": 2
   },
   "file_extension": ".py",
   "mimetype": "text/x-python",
   "name": "python",
   "nbconvert_exporter": "python",
   "pygments_lexer": "ipython2",
   "version": "2.7.12"
  }
 },
 "nbformat": 4,
 "nbformat_minor": 2
}
