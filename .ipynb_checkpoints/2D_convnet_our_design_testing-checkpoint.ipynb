{
 "cells": [
  {
   "cell_type": "code",
   "execution_count": 1,
   "metadata": {},
   "outputs": [],
   "source": [
    "# author: Fahim Tajwar\n",
    "\n",
    "from label_loader import *\n",
    "from image_loader import *\n",
    "from util import *\n",
    "from models import *\n",
    "from model_trainer import *\n",
    "from dataset import *"
   ]
  },
  {
   "cell_type": "code",
   "execution_count": 2,
   "metadata": {},
   "outputs": [
    {
     "name": "stdout",
     "output_type": "stream",
     "text": [
      "set(['cell dies', 'grows dense', 'grows sparse'])\n",
      "{'cell dies': 0, 'grows dense': 1, 'grows sparse': 2}\n",
      "tensor([0.0260, 0.0294, 0.0097])\n"
     ]
    }
   ],
   "source": [
    "file_name_1 = '../data/labels_cells_only.xlsx'\n",
    "file_name_2 = '../data/classes_800.xlsx'\n",
    "file_names = [file_name_1, file_name_2]\n",
    "\n",
    "label_reader = Label_Reader(file_names)\n",
    "weight_vector = label_reader.get_weight_vector()\n",
    "print(label_reader.get_all_labels())\n",
    "print(label_reader.get_label_to_label_id_map())\n",
    "print(weight_vector)"
   ]
  },
  {
   "cell_type": "code",
   "execution_count": 3,
   "metadata": {},
   "outputs": [
    {
     "name": "stdout",
     "output_type": "stream",
     "text": [
      "torch.Size([351, 3, 224, 224])\n",
      "{14: 243, 17: 248, 29: 265, 2082: 146, 42: 292, 2091: 147, 2094: 148, 2096: 149, 2099: 150, 52: 304, 2101: 151, 54: 308, 2107: 152, 62: 323, 2111: 153, 2114: 154, 67: 328, 68: 330, 2122: 155, 75: 341, 2124: 156, 2134: 157, 2135: 158, 2137: 159, 91: 348, 96: 349, 98: 350, 2147: 160, 100: 236, 101: 237, 111: 238, 360: 278, 2164: 161, 121: 239, 2751: 213, 128: 240, 2179: 162, 134: 241, 136: 242, 2193: 163, 2194: 164, 2199: 165, 153: 244, 159: 245, 2210: 166, 2215: 167, 169: 247, 2227: 168, 2228: 169, 183: 249, 187: 250, 2239: 171, 197: 251, 2249: 172, 202: 253, 2253: 173, 206: 254, 221: 255, 2278: 174, 2285: 175, 242: 256, 2291: 176, 250: 257, 2299: 177, 255: 258, 257: 259, 269: 260, 272: 261, 275: 262, 278: 263, 286: 264, 2337: 178, 292: 266, 2342: 179, 295: 267, 2344: 180, 2346: 181, 2351: 182, 307: 268, 2360: 183, 2361: 184, 317: 269, 2368: 185, 321: 270, 325: 271, 326: 272, 329: 273, 331: 274, 2387: 186, 2388: 187, 2389: 188, 2393: 189, 347: 275, 2397: 190, 355: 276, 358: 277, 2408: 192, 2414: 193, 2417: 194, 371: 279, 374: 280, 2424: 195, 381: 281, 383: 282, 384: 283, 387: 284, 389: 285, 2438: 197, 391: 286, 399: 287, 412: 288, 413: 289, 418: 290, 419: 291, 424: 293, 434: 294, 2484: 198, 450: 295, 451: 296, 2501: 199, 2502: 200, 455: 297, 456: 298, 76: 345, 464: 299, 483: 300, 2541: 201, 2543: 202, 499: 301, 517: 302, 518: 303, 2569: 203, 522: 305, 525: 306, 2578: 204, 2579: 205, 536: 307, 542: 309, 548: 310, 559: 311, 561: 312, 564: 313, 569: 314, 572: 315, 2625: 206, 579: 316, 2406: 191, 2634: 207, 587: 317, 588: 318, 590: 319, 2640: 208, 593: 320, 608: 321, 2662: 209, 2666: 210, 623: 324, 635: 325, 2684: 211, 2693: 212, 653: 326, 667: 327, 677: 329, 683: 331, 695: 332, 696: 333, 702: 334, 703: 335, 709: 336, 723: 337, 724: 338, 738: 339, 739: 340, 750: 342, 2800: 214, 753: 343, 755: 344, 2810: 215, 767: 346, 2820: 216, 2832: 217, 785: 347, 2839: 218, 2847: 219, 2853: 220, 2857: 221, 2862: 222, 2866: 223, 2870: 224, 2881: 225, 2891: 226, 2899: 227, 2920: 228, 2939: 229, 2942: 230, 2955: 231, 2971: 232, 2972: 233, 2986: 234, 2991: 235, 167: 246, 1004: 0, 1006: 1, 1015: 2, 1016: 3, 1018: 4, 1019: 5, 1023: 6, 1027: 7, 1036: 8, 1037: 9, 1046: 10, 1055: 11, 1060: 12, 1062: 13, 1063: 14, 1064: 15, 1078: 16, 1086: 17, 1091: 18, 1098: 19, 2231: 170, 1100: 20, 1111: 21, 1122: 22, 1125: 23, 1130: 24, 1134: 25, 1141: 26, 1142: 27, 1146: 28, 1153: 29, 1171: 30, 1175: 31, 1176: 32, 1187: 33, 1194: 34, 201: 252, 1233: 35, 1242: 36, 1254: 37, 1265: 38, 1303: 39, 1324: 40, 1327: 41, 1337: 42, 2432: 196, 1389: 43, 1416: 44, 1432: 45, 1457: 46, 1460: 47, 1476: 48, 1480: 49, 1516: 50, 1520: 51, 1524: 52, 1569: 53, 1591: 54, 1600: 55, 1607: 56, 1608: 57, 1611: 58, 1614: 59, 1622: 60, 614: 322, 1644: 61, 1646: 62, 1667: 63, 1672: 64, 1679: 65, 1685: 66, 1689: 67, 1693: 68, 1714: 69, 1719: 70, 1733: 71, 1736: 72, 1739: 73, 1754: 74, 1770: 75, 1771: 76, 1772: 77, 1775: 78, 1779: 79, 1784: 80, 1785: 81, 1786: 82, 1791: 83, 1794: 84, 1801: 85, 1804: 86, 1806: 87, 1807: 88, 1811: 89, 1812: 90, 1813: 91, 1815: 92, 1819: 93, 1824: 94, 1825: 95, 1828: 96, 1829: 97, 1831: 98, 1833: 99, 1835: 100, 1838: 101, 1848: 102, 1849: 103, 1853: 104, 1857: 105, 1859: 106, 1863: 107, 1866: 108, 1870: 109, 1876: 110, 1879: 111, 1880: 112, 1891: 113, 1893: 114, 1900: 115, 1906: 116, 1913: 117, 1918: 118, 1931: 119, 1934: 120, 1939: 121, 1940: 122, 1943: 123, 1945: 124, 1947: 125, 1958: 126, 1962: 127, 1967: 128, 1974: 129, 1977: 130, 1979: 131, 1983: 132, 1992: 133, 1993: 134, 1998: 135, 2001: 136, 2011: 137, 2017: 138, 2018: 139, 2023: 140, 2029: 141, 2031: 142, 2032: 143, 2040: 144, 2046: 145}\n"
     ]
    }
   ],
   "source": [
    "prefix = \"../data/well2_data/well\"\n",
    "suffix = \"_well.png\"\n",
    "\n",
    "all_well_ids = label_reader.get_all_well_ids()\n",
    "si = Single_Image_Loader(5, all_well_ids, prefix, suffix)\n",
    "tensor = si.get_image_tensor()\n",
    "well_id_to_image_id_map = si.get_well_to_image_id_map()\n",
    "print(tensor.shape)\n",
    "print(well_id_to_image_id_map)"
   ]
  },
  {
   "cell_type": "code",
   "execution_count": 4,
   "metadata": {},
   "outputs": [
    {
     "name": "stdout",
     "output_type": "stream",
     "text": [
      "280\n",
      "[2693 1324  183 1801 2094 2432 1906 1046 2032 2991   75  331 2082  702\n",
      " 2018 1644 2179  723 1004 2955 1389 1693 2099 2147 2666 2899 1086 1171\n",
      " 1622  590 1859 2484 1141 1784  221  255 2360  418 2942 1175 2107 1457\n",
      " 1060  121 2040  269 2337 1772 2414 1853  295   98 2114 2501 1786 1614\n",
      " 1037   29 2227  455 2870 1824 2662 1819 1974 1480 1416 2541 1736  101\n",
      " 1811 2231 1019 2579   76  434 2397 2017 1998 2857  153 2388  317  753\n",
      " 2839 2278 2634  167 2361 1036  272  525 1804 2862   91 1849 1940 2342\n",
      "   52 1023 2368   62 1838  593 2810  518  587 1848 2122   42 2101 1608\n",
      " 1337  517 1934 1018 1125 1524 2193   68 1600 1825 1027  785 1303 1879\n",
      "  387  635 1476 2164 2134 2939 1913 1006 1153 1714 1327  522  499  286\n",
      "  111 1111 2972  424 2351 1962  608 1719 1146 1943 1233 2684 2194 1754\n",
      "  399  456 2832   54  696 1866  464 1607 1672 1098 1835 2408 2210  561\n",
      " 1870  187  767 2847  278   14 1611  384 2215 1900   17 1876  451 2344\n",
      "  136 1176  755 2346 2640 1265 1078  389 2820 1055 1979  738 1958  329\n",
      "   96 2299  614  683 1520  197  709 1831 1947 2111 1893 2046 2135 1857\n",
      " 2625 2891 1807 1739  536  128  569 1100 2228 2986 2543  623 1064 1770\n",
      " 1667  548  564 1812 1679 2406  381  391 2023  325 2417 2001 2866  559\n",
      " 1785  250 1945  667 1432 1142 2393 1967  292 1983  450 1130  201  542\n",
      " 2387  275 1918 1863 1569  202 1794 1591 2249  588  169 1254 1194 2137\n",
      "  572  750 2389   67 1931 1062  483 2199  419  739 1091 2253 2881  374]\n",
      "35\n",
      "280\n"
     ]
    }
   ],
   "source": [
    "input_size = 3 * 224 * 224\n",
    "num_classes = 3\n",
    "\n",
    "label_to_label_id = label_reader.label_to_label_id\n",
    "label_id_to_label_map = label_reader.get_label_id_to_label_map()\n",
    "#print(label_id_to_label_map)\n",
    "\n",
    "Y_label = label_reader.get_label_map()\n",
    "for key in Y_label:\n",
    "    Y_label[key] = label_to_label_id[Y_label[key]]\n",
    "\n",
    "#print(Y_label)\n",
    "\n",
    "label_id_train, label_id_val, label_id_test = get_dataset_split(Y_label)\n",
    "print(len(label_id_train))\n",
    "print(label_id_train)\n",
    "print(len(label_id_val))\n",
    "print(len(label_id_train))"
   ]
  },
  {
   "cell_type": "code",
   "execution_count": 5,
   "metadata": {},
   "outputs": [],
   "source": [
    "training_set = Augmented_Dataset(tensor, label_id_train, Y_label, well_id_to_image_id_map, \n",
    "                                 final_transformation_choice)\n",
    "validation_set = Augmented_Dataset(tensor, label_id_val, Y_label, well_id_to_image_id_map, transform_normalization)\n",
    "test_set = Augmented_Dataset(tensor, label_id_test, Y_label, well_id_to_image_id_map, transform_normalization)"
   ]
  },
  {
   "cell_type": "code",
   "execution_count": 6,
   "metadata": {},
   "outputs": [],
   "source": [
    "training_batch_size = 320\n",
    "validation_batch_size = 1\n",
    "test_batch_size = 1\n",
    "learning_rate = 0.001\n",
    "\n",
    "validation_loader = torch.utils.data.DataLoader(dataset = validation_set, \n",
    "                                          batch_size = validation_batch_size, \n",
    "                                          shuffle = False)\n",
    "test_loader = torch.utils.data.DataLoader(dataset = test_set, \n",
    "                                          batch_size = test_batch_size, \n",
    "                                          shuffle = False)"
   ]
  },
  {
   "cell_type": "code",
   "execution_count": 7,
   "metadata": {},
   "outputs": [],
   "source": [
    "conv_net_1 = Our2DConvNetDesign1(num_classes = 3)\n",
    "model_1 = Model(conv_net_1, training_set, training_batch_size, learning_rate, label_id_to_label_map, \n",
    "              weight = weight_vector, imbalanced_class = True, num_epochs = 30, verbose = True)"
   ]
  },
  {
   "cell_type": "code",
   "execution_count": 8,
   "metadata": {},
   "outputs": [
    {
     "name": "stdout",
     "output_type": "stream",
     "text": [
      "Epoch: [1/30], Loss: 1.1835\n",
      "Epoch: [2/30], Loss: 1.1457\n",
      "Epoch: [3/30], Loss: 1.1340\n",
      "Epoch: [4/30], Loss: 1.1228\n",
      "Epoch: [5/30], Loss: 1.0836\n",
      "Epoch: [6/30], Loss: 1.1011\n",
      "Epoch: [7/30], Loss: 1.0636\n",
      "Epoch: [8/30], Loss: 1.0767\n",
      "Epoch: [9/30], Loss: 1.0724\n",
      "Epoch: [10/30], Loss: 1.0611\n",
      "Epoch: [11/30], Loss: 1.0198\n",
      "Epoch: [12/30], Loss: 1.0567\n",
      "Epoch: [13/30], Loss: 1.0337\n",
      "Epoch: [14/30], Loss: 1.0264\n",
      "Epoch: [15/30], Loss: 1.0313\n",
      "Epoch: [16/30], Loss: 1.0102\n",
      "Epoch: [17/30], Loss: 1.0265\n",
      "Epoch: [18/30], Loss: 0.9883\n",
      "Epoch: [19/30], Loss: 1.0166\n",
      "Epoch: [20/30], Loss: 0.9981\n",
      "Epoch: [21/30], Loss: 0.9960\n",
      "Epoch: [22/30], Loss: 0.9664\n",
      "Epoch: [23/30], Loss: 0.9872\n",
      "Epoch: [24/30], Loss: 0.9851\n",
      "Epoch: [25/30], Loss: 0.9730\n",
      "Epoch: [26/30], Loss: 0.9635\n",
      "Epoch: [27/30], Loss: 0.9789\n",
      "Epoch: [28/30], Loss: 0.9565\n",
      "Epoch: [29/30], Loss: 0.9855\n",
      "Epoch: [30/30], Loss: 0.9784\n",
      "Training done!\n"
     ]
    },
    {
     "data": {
      "image/png": "[encoded data removed]",
      "text/plain": [
       "<Figure size 432x288 with 1 Axes>"
      ]
     },
     "metadata": {},
     "output_type": "display_data"
    },
    {
     "name": "stdout",
     "output_type": "stream",
     "text": [
      "accuracy : 57.000000\n",
      "\n",
      "('Frequency per class: ', {'cell dies': 63, 'grows dense': 53, 'grows sparse': 164})\n"
     ]
    },
    {
     "data": {
      "image/png": "[encoded data removed]",
      "text/plain": [
       "<Figure size 432x288 with 1 Axes>"
      ]
     },
     "metadata": {},
     "output_type": "display_data"
    },
    {
     "name": "stdout",
     "output_type": "stream",
     "text": [
      "('Number of datapoints we got correct per class', {'cell dies': 42, 'grows dense': 25, 'grows sparse': 94})\n",
      "('Accuracy per class', {'cell dies': 0.6666666666666666, 'grows dense': 0.4716981132075472, 'grows sparse': 0.573170731707317})\n"
     ]
    },
    {
     "data": {
      "image/png": "[encoded data removed]",
      "text/plain": [
       "<Figure size 432x288 with 1 Axes>"
      ]
     },
     "metadata": {},
     "output_type": "display_data"
    },
    {
     "data": {
      "text/plain": [
       "0.18024236846142044"
      ]
     },
     "execution_count": 8,
     "metadata": {},
     "output_type": "execute_result"
    }
   ],
   "source": [
    "model_1.train()"
   ]
  },
  {
   "cell_type": "code",
   "execution_count": 9,
   "metadata": {},
   "outputs": [
    {
     "name": "stdout",
     "output_type": "stream",
     "text": [
      "accuracy : 45.000000\n",
      "\n",
      "('Frequency per class: ', {'cell dies': 6, 'grows dense': 7, 'grows sparse': 22})\n"
     ]
    },
    {
     "data": {
      "image/png": "[encoded data removed]",
      "text/plain": [
       "<Figure size 432x288 with 1 Axes>"
      ]
     },
     "metadata": {},
     "output_type": "display_data"
    },
    {
     "name": "stdout",
     "output_type": "stream",
     "text": [
      "('Number of datapoints we got correct per class', {'cell dies': 4, 'grows dense': 3, 'grows sparse': 9})\n",
      "('Accuracy per class', {'cell dies': 0.6666666666666666, 'grows dense': 0.42857142857142855, 'grows sparse': 0.4090909090909091})\n"
     ]
    },
    {
     "data": {
      "image/png": "[encoded data removed]",
      "text/plain": [
       "<Figure size 432x288 with 1 Axes>"
      ]
     },
     "metadata": {},
     "output_type": "display_data"
    },
    {
     "data": {
      "text/plain": [
       "0.11688311688311688"
      ]
     },
     "execution_count": 9,
     "metadata": {},
     "output_type": "execute_result"
    }
   ],
   "source": [
    "model_1.test(validation_loader)"
   ]
  },
  {
   "cell_type": "code",
   "execution_count": 10,
   "metadata": {},
   "outputs": [
    {
     "name": "stdout",
     "output_type": "stream",
     "text": [
      "accuracy : 42.000000\n",
      "\n",
      "('Frequency per class: ', {'cell dies': 8, 'grows dense': 11, 'grows sparse': 16})\n"
     ]
    },
    {
     "data": {
      "image/png": "[encoded data removed]",
      "text/plain": [
       "<Figure size 432x288 with 1 Axes>"
      ]
     },
     "metadata": {},
     "output_type": "display_data"
    },
    {
     "name": "stdout",
     "output_type": "stream",
     "text": [
      "('Number of datapoints we got correct per class', {'cell dies': 4, 'grows dense': 4, 'grows sparse': 7})\n",
      "('Accuracy per class', {'cell dies': 0.5, 'grows dense': 0.36363636363636365, 'grows sparse': 0.4375})\n"
     ]
    },
    {
     "data": {
      "image/png": "[encoded data removed]",
      "text/plain": [
       "<Figure size 432x288 with 1 Axes>"
      ]
     },
     "metadata": {},
     "output_type": "display_data"
    },
    {
     "data": {
      "text/plain": [
       "0.07954545454545454"
      ]
     },
     "execution_count": 10,
     "metadata": {},
     "output_type": "execute_result"
    }
   ],
   "source": [
    "model_1.test(test_loader)"
   ]
  },
  {
   "cell_type": "code",
   "execution_count": null,
   "metadata": {},
   "outputs": [],
   "source": []
  }
 ],
 "metadata": {
  "kernelspec": {
   "display_name": "Python 2",
   "language": "python",
   "name": "python2"
  },
  "language_info": {
   "codemirror_mode": {
    "name": "ipython",
    "version": 2
   },
   "file_extension": ".py",
   "mimetype": "text/x-python",
   "name": "python",
   "nbconvert_exporter": "python",
   "pygments_lexer": "ipython2",
   "version": "2.7.12"
  }
 },
 "nbformat": 4,
 "nbformat_minor": 2
}
