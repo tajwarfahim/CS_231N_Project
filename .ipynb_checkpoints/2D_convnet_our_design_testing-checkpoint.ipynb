{
 "cells": [
  {
   "cell_type": "code",
   "execution_count": 1,
   "metadata": {},
   "outputs": [],
   "source": [
    "# author: Fahim Tajwar\n",
    "\n",
    "from project_code.label_loader import *\n",
    "from project_code.image_loader import *\n",
    "from project_code.util import *\n",
    "from project_code.models import *\n",
    "from project_code.model_trainer import *\n",
    "from project_code.dataset import *"
   ]
  },
  {
   "cell_type": "code",
   "execution_count": 2,
   "metadata": {},
   "outputs": [
    {
     "name": "stdout",
     "output_type": "stream",
     "text": [
      "{'cell dies', 'grows sparse', 'grows dense'}\n",
      "{'cell dies': 0, 'grows sparse': 1, 'grows dense': 2}\n",
      "tensor([0.0260, 0.0097, 0.0294])\n"
     ]
    }
   ],
   "source": [
    "file_name_1 = '/Users/fahimtajwar/Academics/cs231/labels_cells_only.xlsx'\n",
    "file_name_2 = '/Users/fahimtajwar/Academics/cs231/classes_800.xlsx'\n",
    "file_names = [file_name_1, file_name_2]\n",
    "\n",
    "label_reader = Label_Reader(file_names)\n",
    "weight_vector = label_reader.get_weight_vector()\n",
    "print(label_reader.get_all_labels())\n",
    "print(label_reader.get_label_to_label_id_map())\n",
    "print(weight_vector)"
   ]
  },
  {
   "cell_type": "code",
   "execution_count": 3,
   "metadata": {},
   "outputs": [
    {
     "name": "stdout",
     "output_type": "stream",
     "text": [
      "torch.Size([351, 3, 224, 224])\n",
      "{1004: 0, 1006: 1, 1015: 2, 1016: 3, 1018: 4, 1019: 5, 1023: 6, 1027: 7, 1036: 8, 1037: 9, 1046: 10, 1055: 11, 1060: 12, 1062: 13, 1063: 14, 1064: 15, 1078: 16, 1086: 17, 1091: 18, 1098: 19, 1100: 20, 1111: 21, 1122: 22, 1125: 23, 1130: 24, 1134: 25, 1141: 26, 1142: 27, 1146: 28, 1153: 29, 1171: 30, 1175: 31, 1176: 32, 1187: 33, 1194: 34, 1233: 35, 1242: 36, 1254: 37, 1265: 38, 1303: 39, 1324: 40, 1327: 41, 1337: 42, 1389: 43, 1416: 44, 1432: 45, 1457: 46, 1460: 47, 1476: 48, 1480: 49, 1516: 50, 1520: 51, 1524: 52, 1569: 53, 1591: 54, 1600: 55, 1607: 56, 1608: 57, 1611: 58, 1614: 59, 1622: 60, 1644: 61, 1646: 62, 1667: 63, 1672: 64, 1679: 65, 1685: 66, 1689: 67, 1693: 68, 1714: 69, 1719: 70, 1733: 71, 1736: 72, 1739: 73, 1754: 74, 1770: 75, 1771: 76, 1772: 77, 1775: 78, 1779: 79, 1784: 80, 1785: 81, 1786: 82, 1791: 83, 1794: 84, 1801: 85, 1804: 86, 1806: 87, 1807: 88, 1811: 89, 1812: 90, 1813: 91, 1815: 92, 1819: 93, 1824: 94, 1825: 95, 1828: 96, 1829: 97, 1831: 98, 1833: 99, 1835: 100, 1838: 101, 1848: 102, 1849: 103, 1853: 104, 1857: 105, 1859: 106, 1863: 107, 1866: 108, 1870: 109, 1876: 110, 1879: 111, 1880: 112, 1891: 113, 1893: 114, 1900: 115, 1906: 116, 1913: 117, 1918: 118, 1931: 119, 1934: 120, 1939: 121, 1940: 122, 1943: 123, 1945: 124, 1947: 125, 1958: 126, 1962: 127, 1967: 128, 1974: 129, 1977: 130, 1979: 131, 1983: 132, 1992: 133, 1993: 134, 1998: 135, 2001: 136, 2011: 137, 2017: 138, 2018: 139, 2023: 140, 2029: 141, 2031: 142, 2032: 143, 2040: 144, 2046: 145, 2082: 146, 2091: 147, 2094: 148, 2096: 149, 2099: 150, 2101: 151, 2107: 152, 2111: 153, 2114: 154, 2122: 155, 2124: 156, 2134: 157, 2135: 158, 2137: 159, 2147: 160, 2164: 161, 2179: 162, 2193: 163, 2194: 164, 2199: 165, 2210: 166, 2215: 167, 2227: 168, 2228: 169, 2231: 170, 2239: 171, 2249: 172, 2253: 173, 2278: 174, 2285: 175, 2291: 176, 2299: 177, 2337: 178, 2342: 179, 2344: 180, 2346: 181, 2351: 182, 2360: 183, 2361: 184, 2368: 185, 2387: 186, 2388: 187, 2389: 188, 2393: 189, 2397: 190, 2406: 191, 2408: 192, 2414: 193, 2417: 194, 2424: 195, 2432: 196, 2438: 197, 2484: 198, 2501: 199, 2502: 200, 2541: 201, 2543: 202, 2569: 203, 2578: 204, 2579: 205, 2625: 206, 2634: 207, 2640: 208, 2662: 209, 2666: 210, 2684: 211, 2693: 212, 2751: 213, 2800: 214, 2810: 215, 2820: 216, 2832: 217, 2839: 218, 2847: 219, 2853: 220, 2857: 221, 2862: 222, 2866: 223, 2870: 224, 2881: 225, 2891: 226, 2899: 227, 2920: 228, 2939: 229, 2942: 230, 2955: 231, 2971: 232, 2972: 233, 2986: 234, 2991: 235, 100: 236, 101: 237, 111: 238, 121: 239, 128: 240, 134: 241, 136: 242, 14: 243, 153: 244, 159: 245, 167: 246, 169: 247, 17: 248, 183: 249, 187: 250, 197: 251, 201: 252, 202: 253, 206: 254, 221: 255, 242: 256, 250: 257, 255: 258, 257: 259, 269: 260, 272: 261, 275: 262, 278: 263, 286: 264, 29: 265, 292: 266, 295: 267, 307: 268, 317: 269, 321: 270, 325: 271, 326: 272, 329: 273, 331: 274, 347: 275, 355: 276, 358: 277, 360: 278, 371: 279, 374: 280, 381: 281, 383: 282, 384: 283, 387: 284, 389: 285, 391: 286, 399: 287, 412: 288, 413: 289, 418: 290, 419: 291, 42: 292, 424: 293, 434: 294, 450: 295, 451: 296, 455: 297, 456: 298, 464: 299, 483: 300, 499: 301, 517: 302, 518: 303, 52: 304, 522: 305, 525: 306, 536: 307, 54: 308, 542: 309, 548: 310, 559: 311, 561: 312, 564: 313, 569: 314, 572: 315, 579: 316, 587: 317, 588: 318, 590: 319, 593: 320, 608: 321, 614: 322, 62: 323, 623: 324, 635: 325, 653: 326, 667: 327, 67: 328, 677: 329, 68: 330, 683: 331, 695: 332, 696: 333, 702: 334, 703: 335, 709: 336, 723: 337, 724: 338, 738: 339, 739: 340, 75: 341, 750: 342, 753: 343, 755: 344, 76: 345, 767: 346, 785: 347, 91: 348, 96: 349, 98: 350}\n"
     ]
    }
   ],
   "source": [
    "prefix = \"/Users/fahimtajwar/Academics/cs231/project_data_well_2/well2_data/well\"\n",
    "suffix = \"_well.png\"\n",
    "\n",
    "all_well_ids = label_reader.get_all_well_ids()\n",
    "si = Single_Image_Loader(5, all_well_ids, prefix, suffix)\n",
    "tensor = si.get_image_tensor()\n",
    "well_id_to_image_id_map = si.get_well_to_image_id_map()\n",
    "print(tensor.shape)\n",
    "print(well_id_to_image_id_map)"
   ]
  },
  {
   "cell_type": "code",
   "execution_count": 4,
   "metadata": {},
   "outputs": [
    {
     "name": "stdout",
     "output_type": "stream",
     "text": [
      "280\n",
      "[1772 1813 1019  518 2684 2397  702 2134   62  499 2215 1838  325   96\n",
      "  455  326 1060  677  542 2414  111 1859 2193 2101 1992  329 1018 1833\n",
      " 2389  683  412  384  201  317 1111  418 1476  738 1983 1303 1779  134\n",
      " 2991  286 1153  128  307 2388  709   17   75 2299  202  434  667 1233\n",
      " 1849 1122 2017 1714  389 2857 2199  451  206 2122 1893 2853 2502 1063\n",
      " 1900  269 1931  321 1327 1091 2432 1880  242 2387  559 1125 2096 1943\n",
      "  360  608 1242 2484 2227 1265 1979  517 1945 2337  569 1962 2253 1876\n",
      " 2291 1667 1824 2543   98  136  183 1524 1754   29  548 1037 2194 1324\n",
      " 2662  450  399 1516 2360  374  197 2285 1918  257 2986 1194 2137 1023\n",
      " 2751 2018 1853  587 1689 2634 1608  169 2124 1939 2866 1171 2111 2406\n",
      " 1967 1770 2693 1646 2091 2082 2114 1811 2179 2001 1672 1828 1857 2955\n",
      " 1254   54 1825  347 1866 2666 2438 1785 2099 1819  753 1027 1804 1130\n",
      "  750 2579  525 1078 1004  250 1432 1062 2351 1015 1791 1457 1806 1460\n",
      " 2361 1100 2346 2891 1879  255 1891 1187  100 1389 1993 2228 2942 1794\n",
      " 2094 1977 2847  561 2031 2231 1607  590 2800 2029  614 2881  755  424\n",
      " 2899 1784 2344  159  456  295 1863 1175 1569 1036  153  483   68 2424\n",
      " 1947   14 2278 1739  292  739 1611  275  572  383  695  579 1142  536\n",
      " 1835 2368 1064 2640 1815 2032 1801  723 1719  278  623 2393 2939 2839\n",
      " 1086 2832  331 1775 1134 1337 1480 1098  358 2810  724  593 1831 1974\n",
      " 2210 2342 1614 1934 2862 2023  522  355 2417 1848  187   76   91 2920]\n",
      "35\n",
      "280\n"
     ]
    }
   ],
   "source": [
    "input_size = 3 * 224 * 224\n",
    "num_classes = 3\n",
    "\n",
    "label_to_label_id = label_reader.label_to_label_id\n",
    "label_id_to_label_map = label_reader.get_label_id_to_label_map()\n",
    "#print(label_id_to_label_map)\n",
    "\n",
    "Y_label = label_reader.get_label_map()\n",
    "for key in Y_label:\n",
    "    Y_label[key] = label_to_label_id[Y_label[key]]\n",
    "\n",
    "#print(Y_label)\n",
    "\n",
    "label_id_train, label_id_val, label_id_test = get_dataset_split(Y_label)\n",
    "print(len(label_id_train))\n",
    "print(label_id_train)\n",
    "print(len(label_id_val))\n",
    "print(len(label_id_train))"
   ]
  },
  {
   "cell_type": "code",
   "execution_count": 5,
   "metadata": {},
   "outputs": [],
   "source": [
    "training_set = Augmented_Dataset(tensor, label_id_train, Y_label, well_id_to_image_id_map, \n",
    "                                 final_transformation_choice)\n",
    "validation_set = Augmented_Dataset(tensor, label_id_val, Y_label, well_id_to_image_id_map, transform_normalization)\n",
    "test_set = Augmented_Dataset(tensor, label_id_test, Y_label, well_id_to_image_id_map, transform_normalization)"
   ]
  },
  {
   "cell_type": "code",
   "execution_count": 6,
   "metadata": {},
   "outputs": [],
   "source": [
    "training_batch_size = 320\n",
    "validation_batch_size = 1\n",
    "test_batch_size = 1\n",
    "learning_rate = 0.001\n",
    "\n",
    "validation_loader = torch.utils.data.DataLoader(dataset = validation_set, \n",
    "                                          batch_size = validation_batch_size, \n",
    "                                          shuffle = False)\n",
    "test_loader = torch.utils.data.DataLoader(dataset = test_set, \n",
    "                                          batch_size = test_batch_size, \n",
    "                                          shuffle = False)"
   ]
  },
  {
   "cell_type": "code",
   "execution_count": 7,
   "metadata": {},
   "outputs": [],
   "source": [
    "conv_net_1 = Our2DConvNetDesign1(num_classes = 3)\n",
    "model_1 = Model(conv_net_1, training_set, training_batch_size, learning_rate, label_id_to_label_map, \n",
    "              weight = weight_vector, imbalanced_class = True, num_epochs = 30, verbose = True)"
   ]
  },
  {
   "cell_type": "code",
   "execution_count": 8,
   "metadata": {},
   "outputs": [
    {
     "name": "stdout",
     "output_type": "stream",
     "text": [
      "Epoch: [1/30], Loss: 1.1165\n",
      "Epoch: [2/30], Loss: 1.1072\n",
      "Epoch: [3/30], Loss: 1.0978\n",
      "Epoch: [4/30], Loss: 1.0725\n",
      "Epoch: [5/30], Loss: 1.0604\n",
      "Epoch: [6/30], Loss: 1.0615\n",
      "Epoch: [7/30], Loss: 1.0585\n",
      "Epoch: [8/30], Loss: 1.0474\n",
      "Epoch: [9/30], Loss: 1.0561\n",
      "Epoch: [10/30], Loss: 1.0549\n",
      "Epoch: [11/30], Loss: 1.0254\n",
      "Epoch: [12/30], Loss: 1.0446\n",
      "Epoch: [13/30], Loss: 1.0373\n",
      "Epoch: [14/30], Loss: 1.0161\n",
      "Epoch: [15/30], Loss: 1.0295\n",
      "Epoch: [16/30], Loss: 1.0103\n",
      "Epoch: [17/30], Loss: 1.0221\n",
      "Epoch: [18/30], Loss: 1.0121\n",
      "Epoch: [19/30], Loss: 1.0079\n",
      "Epoch: [20/30], Loss: 1.0027\n",
      "Epoch: [21/30], Loss: 0.9888\n",
      "Epoch: [22/30], Loss: 0.9853\n",
      "Epoch: [23/30], Loss: 0.9866\n",
      "Epoch: [24/30], Loss: 0.9838\n",
      "Epoch: [25/30], Loss: 0.9865\n",
      "Epoch: [26/30], Loss: 0.9753\n",
      "Epoch: [27/30], Loss: 0.9578\n",
      "Epoch: [28/30], Loss: 0.9785\n",
      "Epoch: [29/30], Loss: 0.9803\n",
      "Epoch: [30/30], Loss: 0.9694\n",
      "Training done!\n"
     ]
    },
    {
     "data": {
      "image/png": "[encoded data removed]",
      "text/plain": [
       "<Figure size 432x288 with 1 Axes>"
      ]
     },
     "metadata": {
      "needs_background": "light"
     },
     "output_type": "display_data"
    },
    {
     "name": "stdout",
     "output_type": "stream",
     "text": [
      "accuracy : 48.000000\n",
      "\n",
      "Frequency per class:  {'grows sparse': 165, 'grows dense': 55, 'cell dies': 60}\n"
     ]
    },
    {
     "data": {
      "image/png": "[encoded data removed]",
      "text/plain": [
       "<Figure size 432x288 with 1 Axes>"
      ]
     },
     "metadata": {
      "needs_background": "light"
     },
     "output_type": "display_data"
    },
    {
     "name": "stdout",
     "output_type": "stream",
     "text": [
      "Number of datapoints we got correct per class {'grows sparse': 61, 'grows dense': 41, 'cell dies': 33}\n",
      "Accuracy per class {'grows sparse': 0.3696969696969697, 'grows dense': 0.7454545454545455, 'cell dies': 0.55}\n"
     ]
    },
    {
     "data": {
      "image/png": "[encoded data removed]",
      "text/plain": [
       "<Figure size 432x288 with 1 Axes>"
      ]
     },
     "metadata": {
      "needs_background": "light"
     },
     "output_type": "display_data"
    },
    {
     "data": {
      "text/plain": [
       "0.15157575757575759"
      ]
     },
     "execution_count": 8,
     "metadata": {},
     "output_type": "execute_result"
    }
   ],
   "source": [
    "model_1.train()"
   ]
  },
  {
   "cell_type": "code",
   "execution_count": 9,
   "metadata": {},
   "outputs": [
    {
     "name": "stdout",
     "output_type": "stream",
     "text": [
      "accuracy : 60.000000\n",
      "\n",
      "Frequency per class:  {'grows sparse': 19, 'cell dies': 8, 'grows dense': 8}\n"
     ]
    },
    {
     "data": {
      "image/png": "[encoded data removed]",
      "text/plain": [
       "<Figure size 432x288 with 1 Axes>"
      ]
     },
     "metadata": {
      "needs_background": "light"
     },
     "output_type": "display_data"
    },
    {
     "name": "stdout",
     "output_type": "stream",
     "text": [
      "Number of datapoints we got correct per class {'grows sparse': 8, 'cell dies': 6, 'grows dense': 7}\n",
      "Accuracy per class {'grows sparse': 0.42105263157894735, 'cell dies': 0.75, 'grows dense': 0.875}\n"
     ]
    },
    {
     "data": {
      "image/png": "[encoded data removed]",
      "text/plain": [
       "<Figure size 432x288 with 1 Axes>"
      ]
     },
     "metadata": {
      "needs_background": "light"
     },
     "output_type": "display_data"
    },
    {
     "data": {
      "text/plain": [
       "0.2763157894736842"
      ]
     },
     "execution_count": 9,
     "metadata": {},
     "output_type": "execute_result"
    }
   ],
   "source": [
    "model_1.test(validation_loader)"
   ]
  },
  {
   "cell_type": "code",
   "execution_count": 10,
   "metadata": {},
   "outputs": [
    {
     "name": "stdout",
     "output_type": "stream",
     "text": [
      "accuracy : 48.000000\n",
      "\n",
      "Frequency per class:  {'grows dense': 6, 'grows sparse': 24, 'cell dies': 5}\n"
     ]
    },
    {
     "data": {
      "image/png": "[encoded data removed]",
      "text/plain": [
       "<Figure size 432x288 with 1 Axes>"
      ]
     },
     "metadata": {
      "needs_background": "light"
     },
     "output_type": "display_data"
    },
    {
     "name": "stdout",
     "output_type": "stream",
     "text": [
      "Number of datapoints we got correct per class {'grows dense': 3, 'grows sparse': 9, 'cell dies': 5}\n",
      "Accuracy per class {'grows dense': 0.5, 'grows sparse': 0.375, 'cell dies': 1.0}\n"
     ]
    },
    {
     "data": {
      "image/png": "[encoded data removed]",
      "text/plain": [
       "<Figure size 432x288 with 1 Axes>"
      ]
     },
     "metadata": {
      "needs_background": "light"
     },
     "output_type": "display_data"
    },
    {
     "data": {
      "text/plain": [
       "0.1875"
      ]
     },
     "execution_count": 10,
     "metadata": {},
     "output_type": "execute_result"
    }
   ],
   "source": [
    "model_1.test(test_loader)"
   ]
  },
  {
   "cell_type": "code",
   "execution_count": null,
   "metadata": {},
   "outputs": [],
   "source": []
  }
 ],
 "metadata": {
  "kernelspec": {
   "display_name": "Python 3",
   "language": "python",
   "name": "python3"
  },
  "language_info": {
   "codemirror_mode": {
    "name": "ipython",
    "version": 3
   },
   "file_extension": ".py",
   "mimetype": "text/x-python",
   "name": "python",
   "nbconvert_exporter": "python",
   "pygments_lexer": "ipython3",
   "version": "3.7.3"
  }
 },
 "nbformat": 4,
 "nbformat_minor": 2
}
