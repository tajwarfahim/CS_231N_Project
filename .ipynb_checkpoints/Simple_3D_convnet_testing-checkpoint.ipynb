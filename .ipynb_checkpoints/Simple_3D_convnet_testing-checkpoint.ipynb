{
 "cells": [
  {
   "cell_type": "code",
   "execution_count": 1,
   "metadata": {},
   "outputs": [],
   "source": [
    "# author: Fahim Tajwar\n",
    "\n",
    "from label_loader import *\n",
    "from image_loader import *\n",
    "from util import *\n",
    "from models import *\n",
    "from model_trainer import *\n",
    "from dataset import *"
   ]
  },
  {
   "cell_type": "code",
   "execution_count": 2,
   "metadata": {},
   "outputs": [
    {
     "name": "stdout",
     "output_type": "stream",
     "text": [
      "set(['cell dies', 'grows dense', 'grows sparse'])\n",
      "{'cell dies': 0, 'grows dense': 1, 'grows sparse': 2}\n",
      "tensor([0.0260, 0.0294, 0.0097])\n"
     ]
    }
   ],
   "source": [
    "file_name_1 = '../data/labels_cells_only.xlsx'\n",
    "file_name_2 = '../data/classes_800.xlsx'\n",
    "file_names = [file_name_1, file_name_2]\n",
    "\n",
    "label_reader = Label_Reader(file_names)\n",
    "weight_vector = label_reader.get_weight_vector()\n",
    "print(label_reader.get_all_labels())\n",
    "print(label_reader.get_label_to_label_id_map())\n",
    "print(weight_vector)"
   ]
  },
  {
   "cell_type": "code",
   "execution_count": 3,
   "metadata": {},
   "outputs": [
    {
     "name": "stdout",
     "output_type": "stream",
     "text": [
      "('Number of classes : ', 3)\n"
     ]
    }
   ],
   "source": [
    "num_classes = len(label_reader.get_all_labels())\n",
    "print(\"Number of classes : \",  num_classes)"
   ]
  },
  {
   "cell_type": "code",
   "execution_count": 4,
   "metadata": {},
   "outputs": [
    {
     "name": "stdout",
     "output_type": "stream",
     "text": [
      "torch.Size([351, 3, 5, 224, 224])\n",
      "{14: 243, 17: 248, 29: 265, 2082: 146, 42: 292, 2091: 147, 2094: 148, 2096: 149, 2099: 150, 52: 304, 2101: 151, 54: 308, 2107: 152, 62: 323, 2111: 153, 2114: 154, 67: 328, 68: 330, 2122: 155, 75: 341, 2124: 156, 2134: 157, 2135: 158, 2137: 159, 91: 348, 96: 349, 98: 350, 2147: 160, 100: 236, 101: 237, 111: 238, 360: 278, 2164: 161, 121: 239, 2751: 213, 128: 240, 2179: 162, 134: 241, 136: 242, 2193: 163, 2194: 164, 2199: 165, 153: 244, 159: 245, 2210: 166, 2215: 167, 169: 247, 2227: 168, 2228: 169, 183: 249, 187: 250, 2239: 171, 197: 251, 2249: 172, 202: 253, 2253: 173, 206: 254, 221: 255, 2278: 174, 2285: 175, 242: 256, 2291: 176, 250: 257, 2299: 177, 255: 258, 257: 259, 269: 260, 272: 261, 275: 262, 278: 263, 286: 264, 2337: 178, 292: 266, 2342: 179, 295: 267, 2344: 180, 2346: 181, 2351: 182, 307: 268, 2360: 183, 2361: 184, 317: 269, 2368: 185, 321: 270, 325: 271, 326: 272, 329: 273, 331: 274, 2387: 186, 2388: 187, 2389: 188, 2393: 189, 347: 275, 2397: 190, 355: 276, 358: 277, 2408: 192, 2414: 193, 2417: 194, 371: 279, 374: 280, 2424: 195, 381: 281, 383: 282, 384: 283, 387: 284, 389: 285, 2438: 197, 391: 286, 399: 287, 412: 288, 413: 289, 418: 290, 419: 291, 424: 293, 434: 294, 2484: 198, 450: 295, 451: 296, 2501: 199, 2502: 200, 455: 297, 456: 298, 76: 345, 464: 299, 483: 300, 2541: 201, 2543: 202, 499: 301, 517: 302, 518: 303, 2569: 203, 522: 305, 525: 306, 2578: 204, 2579: 205, 536: 307, 542: 309, 548: 310, 559: 311, 561: 312, 564: 313, 569: 314, 572: 315, 2625: 206, 579: 316, 2406: 191, 2634: 207, 587: 317, 588: 318, 590: 319, 2640: 208, 593: 320, 608: 321, 2662: 209, 2666: 210, 623: 324, 635: 325, 2684: 211, 2693: 212, 653: 326, 667: 327, 677: 329, 683: 331, 695: 332, 696: 333, 702: 334, 703: 335, 709: 336, 723: 337, 724: 338, 738: 339, 739: 340, 750: 342, 2800: 214, 753: 343, 755: 344, 2810: 215, 767: 346, 2820: 216, 2832: 217, 785: 347, 2839: 218, 2847: 219, 2853: 220, 2857: 221, 2862: 222, 2866: 223, 2870: 224, 2881: 225, 2891: 226, 2899: 227, 2920: 228, 2939: 229, 2942: 230, 2955: 231, 2971: 232, 2972: 233, 2986: 234, 2991: 235, 167: 246, 1004: 0, 1006: 1, 1015: 2, 1016: 3, 1018: 4, 1019: 5, 1023: 6, 1027: 7, 1036: 8, 1037: 9, 1046: 10, 1055: 11, 1060: 12, 1062: 13, 1063: 14, 1064: 15, 1078: 16, 1086: 17, 1091: 18, 1098: 19, 2231: 170, 1100: 20, 1111: 21, 1122: 22, 1125: 23, 1130: 24, 1134: 25, 1141: 26, 1142: 27, 1146: 28, 1153: 29, 1171: 30, 1175: 31, 1176: 32, 1187: 33, 1194: 34, 201: 252, 1233: 35, 1242: 36, 1254: 37, 1265: 38, 1303: 39, 1324: 40, 1327: 41, 1337: 42, 2432: 196, 1389: 43, 1416: 44, 1432: 45, 1457: 46, 1460: 47, 1476: 48, 1480: 49, 1516: 50, 1520: 51, 1524: 52, 1569: 53, 1591: 54, 1600: 55, 1607: 56, 1608: 57, 1611: 58, 1614: 59, 1622: 60, 614: 322, 1644: 61, 1646: 62, 1667: 63, 1672: 64, 1679: 65, 1685: 66, 1689: 67, 1693: 68, 1714: 69, 1719: 70, 1733: 71, 1736: 72, 1739: 73, 1754: 74, 1770: 75, 1771: 76, 1772: 77, 1775: 78, 1779: 79, 1784: 80, 1785: 81, 1786: 82, 1791: 83, 1794: 84, 1801: 85, 1804: 86, 1806: 87, 1807: 88, 1811: 89, 1812: 90, 1813: 91, 1815: 92, 1819: 93, 1824: 94, 1825: 95, 1828: 96, 1829: 97, 1831: 98, 1833: 99, 1835: 100, 1838: 101, 1848: 102, 1849: 103, 1853: 104, 1857: 105, 1859: 106, 1863: 107, 1866: 108, 1870: 109, 1876: 110, 1879: 111, 1880: 112, 1891: 113, 1893: 114, 1900: 115, 1906: 116, 1913: 117, 1918: 118, 1931: 119, 1934: 120, 1939: 121, 1940: 122, 1943: 123, 1945: 124, 1947: 125, 1958: 126, 1962: 127, 1967: 128, 1974: 129, 1977: 130, 1979: 131, 1983: 132, 1992: 133, 1993: 134, 1998: 135, 2001: 136, 2011: 137, 2017: 138, 2018: 139, 2023: 140, 2029: 141, 2031: 142, 2032: 143, 2040: 144, 2046: 145}\n"
     ]
    }
   ],
   "source": [
    "prefix = \"../data/well2_data/well\"\n",
    "suffix = \"_well.png\"\n",
    "\n",
    "all_well_ids = label_reader.get_all_well_ids()\n",
    "ti = TimeCourse_Image_Loader(1, 5, all_well_ids, prefix, suffix)\n",
    "tensor = ti.get_image_tensor()\n",
    "well_id_to_image_id_map = ti.get_well_to_image_id_map()\n",
    "print(tensor.shape)\n",
    "print(well_id_to_image_id_map)"
   ]
  },
  {
   "cell_type": "code",
   "execution_count": 5,
   "metadata": {},
   "outputs": [
    {
     "name": "stdout",
     "output_type": "stream",
     "text": [
      "280\n",
      "[2215 1998 1644  561 1476   54  456 1327   67 1779   42 1432  167   75\n",
      " 1614  614  358 2881 2839 1098 1607 1791 1018 1337 2414  121   52 1857\n",
      " 1064 1004  450  517 1719 2017  206 1023 2096 1983 2800  347  355 2406\n",
      " 2046  677 1134  412 1679  424 2239 2291 2194 2299 2939 2253  381 1233\n",
      "  767  785 1977  307 1811  739 1569 2543 2082 1859 1141 2847 2955  326\n",
      " 1480 2278 1863 1786 1934 1130 2227  635 1016  325 2342 1906  221  623\n",
      "  321 2920 1685 1611  269  667 2397 1194  128 1801 1775  418  317  518\n",
      " 1672 1037  286 2393 2040 2666 1828  278 2820 1324 2832 2579 1958   14\n",
      " 2862 1036 1063  101 1689 1600 2210 1667  292 2387  702  451  360 1100\n",
      " 1389 2360 2137  683 1945 2899 1880 1176 1813  755  464 2569  387  724\n",
      " 1848  499 1784  136   17 2891 1142 1175  588 2438 1015   29 2032 1833\n",
      " 1819 2101  590 2693 1785 2408 1838  169 1265  536 2001 1111 1993   96\n",
      "  391 1804 1125 2684  593 1714 1876 1733 1736  434 2107  371 2091  187\n",
      " 1806  723 1516  100 2346 1870  750 1153 1078 1962 1812 1974 1815  374\n",
      " 1947 2228 2432 1254 2424 2502 2249 1829 1825 1520  384 1866  572 2134\n",
      "  419 2578  455 2285 1967 2866 1622 2111 2337 1006   76 2193  201 2199\n",
      "  250 2857 2942   91  331 1893  295 2870 2023  709 2147 1772 1891 1416\n",
      " 1794  183  399 1046 1939  413  703  257  525  579 1900   68 1027 2164\n",
      " 2094  548 1242 1608 1171 2625 2114  696  569  383 1091  542 1460 1992\n",
      " 1754 1060 1146 2029  134 2351 2853 1739 2971 2484 1831 2135   98 2634]\n",
      "35\n",
      "280\n"
     ]
    }
   ],
   "source": [
    "input_size = 3 * 224 * 224 * 5\n",
    "num_classes = 3\n",
    "\n",
    "label_to_label_id = label_reader.label_to_label_id\n",
    "label_id_to_label_map = label_reader.get_label_id_to_label_map()\n",
    "#print(label_id_to_label_map)\n",
    "\n",
    "Y_label = label_reader.get_label_map()\n",
    "for key in Y_label:\n",
    "    Y_label[key] = label_to_label_id[Y_label[key]]\n",
    "\n",
    "#print(Y_label)\n",
    "\n",
    "label_id_train, label_id_val, label_id_test = get_dataset_split(Y_label)\n",
    "print(len(label_id_train))\n",
    "print(label_id_train)\n",
    "print(len(label_id_val))\n",
    "print(len(label_id_train))"
   ]
  },
  {
   "cell_type": "code",
   "execution_count": 6,
   "metadata": {},
   "outputs": [],
   "source": [
    "training_set = Dataset(tensor, label_id_train, Y_label, well_id_to_image_id_map)\n",
    "validation_set = Dataset(tensor, label_id_val, Y_label, well_id_to_image_id_map)\n",
    "test_set = Dataset(tensor, label_id_test, Y_label, well_id_to_image_id_map)"
   ]
  },
  {
   "cell_type": "code",
   "execution_count": 7,
   "metadata": {},
   "outputs": [],
   "source": [
    "training_batch_size = 320\n",
    "validation_batch_size = 1\n",
    "test_batch_size = 1\n",
    "learning_rate = 0.00001\n",
    "\n",
    "validation_loader = torch.utils.data.DataLoader(dataset = validation_set, \n",
    "                                          batch_size = validation_batch_size, \n",
    "                                          shuffle = False)\n",
    "test_loader = torch.utils.data.DataLoader(dataset = test_set, \n",
    "                                          batch_size = test_batch_size, \n",
    "                                          shuffle = False)"
   ]
  },
  {
   "cell_type": "code",
   "execution_count": 8,
   "metadata": {},
   "outputs": [],
   "source": [
    "conv_net_3D = Simple3DConvNet()\n",
    "model = Model(conv_net_3D, training_set, training_batch_size, learning_rate, label_id_to_label_map, \n",
    "              weight = weight_vector, imbalanced_class = True, num_epochs = 15, verbose = True)"
   ]
  },
  {
   "cell_type": "code",
   "execution_count": 9,
   "metadata": {},
   "outputs": [
    {
     "name": "stdout",
     "output_type": "stream",
     "text": [
      "Epoch: [1/15], Loss: 1.1087\n",
      "Epoch: [2/15], Loss: 1.0976\n",
      "Epoch: [3/15], Loss: 1.0889\n",
      "Epoch: [4/15], Loss: 1.0807\n",
      "Epoch: [5/15], Loss: 1.0730\n",
      "Epoch: [6/15], Loss: 1.0656\n",
      "Epoch: [7/15], Loss: 1.0585\n",
      "Epoch: [8/15], Loss: 1.0517\n",
      "Epoch: [9/15], Loss: 1.0451\n",
      "Epoch: [10/15], Loss: 1.0389\n",
      "Epoch: [11/15], Loss: 1.0328\n",
      "Epoch: [12/15], Loss: 1.0270\n",
      "Epoch: [13/15], Loss: 1.0213\n",
      "Epoch: [14/15], Loss: 1.0159\n",
      "Epoch: [15/15], Loss: 1.0106\n",
      "Training done!\n"
     ]
    },
    {
     "data": {
      "image/png": "[encoded data removed]",
      "text/plain": [
       "<Figure size 432x288 with 1 Axes>"
      ]
     },
     "metadata": {},
     "output_type": "display_data"
    },
    {
     "name": "stdout",
     "output_type": "stream",
     "text": [
      "accuracy : 53.000000\n",
      "\n",
      "('Frequency per class: ', {'cell dies': 68, 'grows dense': 47, 'grows sparse': 165})\n"
     ]
    },
    {
     "data": {
      "image/png": "[encoded data removed]",
      "text/plain": [
       "<Figure size 432x288 with 1 Axes>"
      ]
     },
     "metadata": {},
     "output_type": "display_data"
    },
    {
     "name": "stdout",
     "output_type": "stream",
     "text": [
      "('Number of datapoints we got correct per class', {'cell dies': 50, 'grows dense': 15, 'grows sparse': 84})\n",
      "('Accuracy per class', {'cell dies': 0.7352941176470589, 'grows dense': 0.3191489361702128, 'grows sparse': 0.509090909090909})\n"
     ]
    },
    {
     "data": {
      "image/png": "[encoded data removed]",
      "text/plain": [
       "<Figure size 432x288 with 1 Axes>"
      ]
     },
     "metadata": {},
     "output_type": "display_data"
    },
    {
     "data": {
      "text/plain": [
       "0.11946751621344863"
      ]
     },
     "execution_count": 9,
     "metadata": {},
     "output_type": "execute_result"
    }
   ],
   "source": [
    "model.train()"
   ]
  },
  {
   "cell_type": "code",
   "execution_count": 10,
   "metadata": {},
   "outputs": [
    {
     "name": "stdout",
     "output_type": "stream",
     "text": [
      "accuracy : 62.000000\n",
      "\n",
      "('Frequency per class: ', {'cell dies': 9, 'grows dense': 8, 'grows sparse': 18})\n"
     ]
    },
    {
     "data": {
      "image/png": "[encoded data removed]",
      "text/plain": [
       "<Figure size 432x288 with 1 Axes>"
      ]
     },
     "metadata": {},
     "output_type": "display_data"
    },
    {
     "name": "stdout",
     "output_type": "stream",
     "text": [
      "('Number of datapoints we got correct per class', {'cell dies': 9, 'grows dense': 6, 'grows sparse': 7})\n",
      "('Accuracy per class', {'cell dies': 1.0, 'grows dense': 0.75, 'grows sparse': 0.3888888888888889})\n"
     ]
    },
    {
     "data": {
      "image/png": "[encoded data removed]",
      "text/plain": [
       "<Figure size 432x288 with 1 Axes>"
      ]
     },
     "metadata": {},
     "output_type": "display_data"
    },
    {
     "data": {
      "text/plain": [
       "0.2916666666666667"
      ]
     },
     "execution_count": 10,
     "metadata": {},
     "output_type": "execute_result"
    }
   ],
   "source": [
    "model.test(validation_loader)"
   ]
  },
  {
   "cell_type": "code",
   "execution_count": 11,
   "metadata": {},
   "outputs": [
    {
     "name": "stdout",
     "output_type": "stream",
     "text": [
      "accuracy : 54.000000\n",
      "\n",
      "('Frequency per class: ', {'cell dies': 9, 'grows dense': 9, 'grows sparse': 17})\n"
     ]
    },
    {
     "data": {
      "image/png": "[encoded data removed]",
      "text/plain": [
       "<Figure size 432x288 with 1 Axes>"
      ]
     },
     "metadata": {},
     "output_type": "display_data"
    },
    {
     "name": "stdout",
     "output_type": "stream",
     "text": [
      "('Number of datapoints we got correct per class', {'cell dies': 7, 'grows dense': 3, 'grows sparse': 9})\n",
      "('Accuracy per class', {'cell dies': 0.7777777777777778, 'grows dense': 0.3333333333333333, 'grows sparse': 0.5294117647058824})\n"
     ]
    },
    {
     "data": {
      "image/png": "[encoded data removed]",
      "text/plain": [
       "<Figure size 432x288 with 1 Axes>"
      ]
     },
     "metadata": {},
     "output_type": "display_data"
    },
    {
     "data": {
      "text/plain": [
       "0.1372549019607843"
      ]
     },
     "execution_count": 11,
     "metadata": {},
     "output_type": "execute_result"
    }
   ],
   "source": [
    "model.test(test_loader)"
   ]
  },
  {
   "cell_type": "code",
   "execution_count": null,
   "metadata": {},
   "outputs": [],
   "source": []
  },
  {
   "cell_type": "code",
   "execution_count": null,
   "metadata": {},
   "outputs": [],
   "source": []
  },
  {
   "cell_type": "code",
   "execution_count": null,
   "metadata": {},
   "outputs": [],
   "source": []
  },
  {
   "cell_type": "code",
   "execution_count": null,
   "metadata": {},
   "outputs": [],
   "source": []
  }
 ],
 "metadata": {
  "kernelspec": {
   "display_name": "Python 2",
   "language": "python",
   "name": "python2"
  },
  "language_info": {
   "codemirror_mode": {
    "name": "ipython",
    "version": 2
   },
   "file_extension": ".py",
   "mimetype": "text/x-python",
   "name": "python",
   "nbconvert_exporter": "python",
   "pygments_lexer": "ipython2",
   "version": "2.7.12"
  }
 },
 "nbformat": 4,
 "nbformat_minor": 2
}
