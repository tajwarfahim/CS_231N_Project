{
 "cells": [
  {
   "cell_type": "code",
   "execution_count": 1,
   "metadata": {},
   "outputs": [
    {
     "name": "stdout",
     "output_type": "stream",
     "text": [
      "set(['cell dies', 'grows sparse'])\n",
      "{'cell dies': 0, 'grows sparse': 1}\n",
      "tensor([0.0130, 0.0049])\n"
     ]
    }
   ],
   "source": [
    "# author: Fahim Tajwar\n",
    "from label_loader import *\n",
    "from image_loader import *\n",
    "from util import *\n",
    "from models import *\n",
    "from model_trainer import *\n",
    "from dataset import *\n",
    "\n",
    "file_name_1 = '../data/labels_cells_only.xlsx'\n",
    "file_name_2 = '../data/classes_800.xlsx'\n",
    "file_names = [file_name_1, file_name_2]\n",
    "\n",
    "label_reader = Label_Reader(file_names)\n",
    "weight_vector = label_reader.get_weight_vector()\n",
    "print(label_reader.get_all_labels())\n",
    "print(label_reader.get_label_to_label_id_map())\n",
    "print(weight_vector)"
   ]
  },
  {
   "cell_type": "code",
   "execution_count": 2,
   "metadata": {},
   "outputs": [
    {
     "name": "stdout",
     "output_type": "stream",
     "text": [
      "torch.Size([283, 3, 224, 224])\n",
      "{68: 266, 1027: 6, 358: 228, 518: 244, 522: 246, 1879: 93, 1036: 7, 1037: 8, 14: 204, 17: 209, 2578: 168, 2579: 169, 1046: 9, 536: 248, 2991: 196, 29: 222, 1055: 10, 2082: 123, 1060: 11, 1062: 12, 1063: 13, 1064: 14, 42: 238, 2091: 124, 564: 251, 2096: 125, 561: 250, 2099: 126, 52: 245, 2101: 127, 1078: 15, 2484: 165, 2107: 128, 572: 253, 2111: 129, 1600: 46, 2625: 170, 2114: 130, 331: 225, 667: 263, 2389: 156, 1607: 47, 1608: 48, 1098: 16, 1611: 49, 1100: 17, 98: 282, 1614: 50, 525: 247, 755: 276, 1622: 51, 1111: 18, 2137: 133, 91: 280, 101: 198, 608: 258, 1122: 19, 2147: 134, 100: 197, 2135: 132, 2662: 171, 1130: 20, 1134: 21, 111: 199, 2920: 189, 703: 270, 275: 219, 1141: 22, 1142: 23, 614: 259, 121: 200, 1146: 24, 2751: 175, 2684: 173, 2666: 172, 128: 201, 1153: 25, 1667: 52, 2693: 174, 134: 202, 1672: 53, 1815: 78, 653: 262, 1679: 54, 2193: 136, 2194: 137, 451: 241, 1685: 55, 1175: 26, 1176: 27, 1689: 56, 623: 260, 159: 206, 2839: 179, 2210: 138, 1187: 28, 677: 265, 2215: 139, 169: 208, 683: 267, 2955: 192, 76: 277, 1714: 57, 2227: 140, 2231: 141, 1719: 58, 696: 268, 187: 211, 702: 269, 2239: 142, 1733: 59, 2337: 148, 1736: 60, 2249: 143, 202: 214, 1739: 61, 2543: 167, 1233: 29, 399: 233, 548: 249, 1754: 62, 221: 215, 2853: 181, 587: 255, 635: 261, 1254: 31, 1770: 63, 1771: 64, 1772: 65, 2285: 145, 750: 275, 1775: 66, 2800: 176, 1265: 32, 2291: 146, 724: 272, 2857: 182, 1784: 67, 1785: 68, 1786: 69, 2299: 147, 2361: 153, 1791: 70, 588: 256, 257: 217, 1794: 71, 1801: 72, 1804: 73, 269: 218, 1806: 74, 2832: 178, 785: 279, 1811: 75, 1812: 76, 1813: 77, 278: 220, 1303: 33, 2351: 151, 1819: 79, 1242: 30, 286: 221, 2847: 180, 1824: 80, 1825: 81, 197: 212, 1828: 82, 1829: 83, 2344: 149, 1833: 84, 2346: 150, 1835: 85, 1324: 34, 1838: 86, 1327: 35, 136: 203, 2866: 184, 2870: 185, 1848: 87, 1337: 36, 317: 223, 2368: 154, 1857: 89, 1859: 90, 325: 224, 360: 229, 96: 281, 1866: 91, 2891: 187, 738: 273, 1870: 92, 2360: 152, 2387: 155, 2040: 121, 1849: 88, 1880: 94, 347: 226, 2397: 157, 355: 227, 1893: 95, 2406: 158, 2408: 159, 2278: 144, 67: 264, 1900: 96, 1389: 37, 2414: 160, 2417: 161, 1906: 97, 371: 230, 374: 231, 2424: 162, 1913: 98, 2939: 190, 183: 210, 2942: 191, 2432: 163, 2438: 164, 2881: 186, 1416: 38, 1004: 0, 1931: 99, 1934: 100, 2541: 166, 579: 254, 1940: 101, 153: 205, 1432: 39, 1945: 102, 201: 213, 1947: 103, 2972: 194, 413: 235, 2032: 120, 418: 236, 2971: 193, 2179: 135, 1958: 104, 424: 239, 412: 234, 1962: 105, 255: 216, 1967: 106, 434: 240, 499: 243, 1460: 40, 1974: 107, 1977: 108, 1979: 109, 2122: 131, 1983: 110, 2862: 183, 1476: 41, 1480: 42, 1993: 111, 1998: 112, 2001: 113, 419: 237, 590: 257, 569: 252, 2011: 114, 2810: 177, 2017: 115, 2018: 116, 483: 242, 391: 232, 739: 274, 2023: 117, 709: 271, 167: 207, 1516: 43, 2029: 118, 2031: 119, 1520: 44, 2899: 188, 1524: 45, 1015: 1, 1016: 2, 1018: 3, 1019: 4, 767: 278, 2986: 195, 2046: 122, 1023: 5}\n"
     ]
    }
   ],
   "source": [
    "prefix = \"../data/well2_data/well\"\n",
    "suffix = \"_well.png\"\n",
    "\n",
    "all_well_ids = label_reader.get_all_well_ids()\n",
    "si = Single_Image_Loader(5, all_well_ids, prefix, suffix)\n",
    "tensor = si.get_image_tensor()\n",
    "well_id_to_image_id_map = si.get_well_to_image_id_map()\n",
    "print(tensor.shape)\n",
    "print(well_id_to_image_id_map)"
   ]
  },
  {
   "cell_type": "code",
   "execution_count": 3,
   "metadata": {},
   "outputs": [
    {
     "name": "stdout",
     "output_type": "stream",
     "text": [
      "{68: 0, 1027: 1, 358: 1, 518: 1, 522: 1, 1879: 1, 1036: 1, 1037: 1, 14: 1, 17: 0, 2578: 1, 2579: 0, 1046: 1, 536: 1, 2991: 1, 29: 1, 1055: 0, 2082: 1, 1060: 0, 1062: 1, 1063: 0, 1064: 0, 42: 0, 2091: 1, 564: 1, 2096: 0, 561: 1, 2099: 0, 52: 1, 2101: 1, 1078: 1, 2484: 1, 2107: 0, 572: 1, 2111: 1, 1600: 0, 2625: 0, 2114: 1, 331: 1, 667: 0, 2389: 1, 1607: 1, 1608: 1, 1098: 0, 1611: 1, 1100: 1, 98: 1, 1614: 0, 525: 0, 755: 0, 1622: 1, 1111: 1, 2137: 1, 91: 1, 101: 1, 608: 1, 1122: 1, 2147: 0, 100: 0, 2135: 1, 2662: 0, 1130: 0, 1134: 1, 111: 1, 2920: 1, 703: 0, 275: 1, 1141: 1, 1142: 0, 614: 0, 121: 0, 1146: 0, 2751: 1, 2684: 1, 2666: 1, 128: 1, 1153: 1, 1667: 1, 2693: 1, 134: 1, 1672: 0, 1815: 1, 653: 1, 1679: 1, 2193: 1, 2194: 1, 451: 1, 1685: 1, 1175: 1, 1176: 1, 1689: 0, 623: 1, 159: 1, 2839: 1, 2210: 1, 1187: 1, 677: 0, 2215: 1, 169: 1, 683: 1, 2955: 1, 76: 0, 1714: 0, 2227: 1, 2231: 0, 1719: 1, 696: 1, 187: 1, 702: 0, 2239: 1, 1733: 1, 2337: 1, 1736: 1, 2249: 1, 202: 1, 1739: 0, 2543: 1, 1233: 0, 399: 0, 548: 0, 1754: 1, 221: 0, 2853: 1, 587: 0, 635: 0, 1254: 0, 1770: 1, 1771: 1, 1772: 1, 2285: 0, 750: 0, 1775: 1, 2800: 1, 1265: 1, 2291: 1, 724: 1, 2857: 0, 1784: 1, 1785: 1, 1786: 1, 2299: 1, 2361: 1, 1791: 1, 588: 0, 257: 0, 1794: 1, 1801: 1, 1804: 1, 269: 1, 1806: 1, 2832: 1, 785: 0, 1811: 1, 1812: 1, 1813: 0, 278: 1, 1303: 1, 2351: 1, 1819: 1, 1242: 0, 286: 1, 2847: 1, 1824: 1, 1825: 0, 197: 1, 1828: 1, 1829: 1, 2344: 1, 1833: 1, 2346: 0, 1835: 1, 1324: 1, 1838: 1, 1327: 0, 136: 0, 2866: 1, 2870: 1, 1848: 1, 1337: 1, 317: 1, 2368: 1, 1857: 0, 1859: 1, 325: 0, 360: 1, 96: 0, 1866: 1, 2891: 1, 738: 1, 1870: 0, 2360: 1, 2387: 0, 2040: 1, 1849: 1, 1880: 1, 347: 1, 2397: 1, 355: 1, 1893: 1, 2406: 1, 2408: 1, 2278: 1, 67: 1, 1900: 1, 1389: 1, 2414: 1, 2417: 1, 1906: 1, 371: 0, 374: 0, 2424: 1, 1913: 1, 2939: 1, 183: 1, 2942: 1, 2432: 1, 2438: 1, 2881: 1, 1416: 0, 1004: 0, 1931: 1, 1934: 0, 2541: 1, 579: 1, 1940: 1, 153: 1, 1432: 1, 1945: 1, 201: 0, 1947: 0, 2972: 1, 413: 1, 2032: 1, 418: 1, 2971: 1, 2179: 1, 1958: 1, 424: 1, 412: 1, 1962: 1, 255: 0, 1967: 1, 434: 1, 499: 1, 1460: 1, 1974: 0, 1977: 0, 1979: 0, 2122: 1, 1983: 1, 2862: 1, 1476: 1, 1480: 1, 1993: 1, 1998: 1, 2001: 0, 419: 1, 590: 0, 569: 1, 2011: 1, 2810: 1, 2017: 1, 2018: 1, 483: 0, 391: 1, 739: 1, 2023: 1, 709: 1, 167: 1, 1516: 0, 2029: 1, 2031: 1, 1520: 1, 2899: 1, 1524: 1, 1015: 1, 1016: 0, 1018: 1, 1019: 0, 767: 1, 2986: 1, 2046: 1, 1023: 0}\n",
      "226\n",
      "[1679   42 1037 1848 1879   76 2114 2368  614  588  738 1967  201 1130\n",
      "  548 2397 1870 1833 1476 2484  275 1880 1685 2414  739  412 2751  653\n",
      "  153 1771 2046 1327 1824  419  767 2210  608 1811  483 2857 1775 1141\n",
      "  587 1829  136 2579 1004  702 1859 2899  518  564  525 2040  522 2543\n",
      " 2018 2800 1134  111 1146 2839 1993 2337 1819 2810 1389  451 2285 2031\n",
      " 2847 1233 2920 1607 2955 2215 2438 2942   98  221  358 2881 1825  785\n",
      "  360 1962 1176 1023 2023 1866 1611 2625 1804 1111  355 1078 1018   17\n",
      "  134  703 1460 2082 1945 2032 2122 1015 2107 2137  269 1828 1614  667\n",
      " 1835  434 1739 2541 1416  286 2693  499 1324 1689 2406 2972 1608   52\n",
      " 2662 2408 1337   91 1242 1063  159  709  413 2389  371 1785 1100 2432\n",
      " 1098 1947 2417 1027 1736 1622 1838  623  677 1784 1432  683 1187 1998\n",
      " 1122 2862 2147 1983 2029 1062 2239 2424  197  374 2387 2361  100 1303\n",
      " 2111 2986  590 2194 2578 2939 2866 1600   96  399  755 1019 1516 1934\n",
      "  317 1153 1977  569  418  572  424 1524 1055 2099 2971  724  202 1733\n",
      " 1974 1667 1958 2832 1520 1036 1770 2344 1815  121 1754 1813 1046 1714\n",
      " 2278 1940 2351 1893 2179 2193 1806  128  257  167   29 2360 1175 2227\n",
      " 1016 1142]\n",
      "28\n",
      "226\n"
     ]
    }
   ],
   "source": [
    "input_size = 3 * 224 * 224\n",
    "num_classes = 3\n",
    "\n",
    "label_to_label_id = label_reader.label_to_label_id\n",
    "label_id_to_label_map = label_reader.get_label_id_to_label_map()\n",
    "#print(label_id_to_label_map)\n",
    "\n",
    "Y_label = label_reader.get_label_map()\n",
    "for key in Y_label:\n",
    "    Y_label[key] = label_to_label_id[Y_label[key]]\n",
    "\n",
    "print(Y_label)\n",
    "\n",
    "label_id_train, label_id_val, label_id_test = get_dataset_split(Y_label)\n",
    "print(len(label_id_train))\n",
    "print(label_id_train)\n",
    "print(len(label_id_val))\n",
    "print(len(label_id_train))"
   ]
  },
  {
   "cell_type": "code",
   "execution_count": 4,
   "metadata": {},
   "outputs": [],
   "source": [
    "training_set = Augmented_Dataset(tensor, label_id_train, Y_label, well_id_to_image_id_map, \n",
    "                                 None)\n",
    "validation_set = Augmented_Dataset(tensor, label_id_val, Y_label, well_id_to_image_id_map, None)\n",
    "test_set = Augmented_Dataset(tensor, label_id_test, Y_label, well_id_to_image_id_map, None)"
   ]
  },
  {
   "cell_type": "code",
   "execution_count": 5,
   "metadata": {},
   "outputs": [],
   "source": [
    "training_batch_size = 320\n",
    "validation_batch_size = 1\n",
    "test_batch_size = 1\n",
    "learning_rate = 0.0005\n",
    "\n",
    "validation_loader = torch.utils.data.DataLoader(dataset = validation_set, \n",
    "                                          batch_size = validation_batch_size, \n",
    "                                          shuffle = False)\n",
    "test_loader = torch.utils.data.DataLoader(dataset = test_set, \n",
    "                                          batch_size = test_batch_size, \n",
    "                                          shuffle = False)"
   ]
  },
  {
   "cell_type": "code",
   "execution_count": 6,
   "metadata": {},
   "outputs": [],
   "source": [
    "conv_net_1 = Our2DConvNetDesign1(num_classes = 2)\n",
    "model_1 = Model(conv_net_1, training_set, training_batch_size, learning_rate, label_id_to_label_map, \n",
    "              weight = weight_vector, imbalanced_class = True, num_epochs = 30, verbose = True)"
   ]
  },
  {
   "cell_type": "code",
   "execution_count": 7,
   "metadata": {},
   "outputs": [
    {
     "name": "stdout",
     "output_type": "stream",
     "text": [
      "Epoch: [1/30], Loss: 0.7276\n",
      "Epoch: [2/30], Loss: 0.7089\n",
      "Epoch: [3/30], Loss: 0.6933\n",
      "Epoch: [4/30], Loss: 0.6800\n",
      "Epoch: [5/30], Loss: 0.6685\n",
      "Epoch: [6/30], Loss: 0.6584\n",
      "Epoch: [7/30], Loss: 0.6493\n",
      "Epoch: [8/30], Loss: 0.6412\n",
      "Epoch: [9/30], Loss: 0.6337\n",
      "Epoch: [10/30], Loss: 0.6268\n",
      "Epoch: [11/30], Loss: 0.6203\n",
      "Epoch: [12/30], Loss: 0.6142\n",
      "Epoch: [13/30], Loss: 0.6084\n",
      "Epoch: [14/30], Loss: 0.6029\n",
      "Epoch: [15/30], Loss: 0.5976\n",
      "Epoch: [16/30], Loss: 0.5924\n",
      "Epoch: [17/30], Loss: 0.5875\n",
      "Epoch: [18/30], Loss: 0.5827\n",
      "Epoch: [19/30], Loss: 0.5779\n",
      "Epoch: [20/30], Loss: 0.5733\n",
      "Epoch: [21/30], Loss: 0.5688\n",
      "Epoch: [22/30], Loss: 0.5644\n",
      "Epoch: [23/30], Loss: 0.5601\n",
      "Epoch: [24/30], Loss: 0.5558\n",
      "Epoch: [25/30], Loss: 0.5517\n",
      "Epoch: [26/30], Loss: 0.5476\n",
      "Epoch: [27/30], Loss: 0.5437\n",
      "Epoch: [28/30], Loss: 0.5398\n",
      "Epoch: [29/30], Loss: 0.5360\n",
      "Epoch: [30/30], Loss: 0.5324\n",
      "Training done!\n"
     ]
    },
    {
     "data": {
      "image/png": "[encoded data removed]",
      "text/plain": [
       "<Figure size 432x288 with 1 Axes>"
      ]
     },
     "metadata": {},
     "output_type": "display_data"
    },
    {
     "name": "stdout",
     "output_type": "stream",
     "text": [
      "accuracy : 76.000000\n",
      "\n",
      "('Frequency per class: ', {'cell dies': 62, 'grows sparse': 164})\n"
     ]
    },
    {
     "data": {
      "image/png": "[encoded data removed]",
      "text/plain": [
       "<Figure size 432x288 with 1 Axes>"
      ]
     },
     "metadata": {},
     "output_type": "display_data"
    },
    {
     "name": "stdout",
     "output_type": "stream",
     "text": [
      "('Number of datapoints we got correct per class', {'cell dies': 52, 'grows sparse': 122})\n",
      "('Accuracy per class', {'cell dies': 0.8387096774193549, 'grows sparse': 0.7439024390243902})\n"
     ]
    },
    {
     "data": {
      "image/png": "[encoded data removed]",
      "text/plain": [
       "<Figure size 432x288 with 1 Axes>"
      ]
     },
     "metadata": {},
     "output_type": "display_data"
    },
    {
     "data": {
      "text/plain": [
       "0.6239181746656176"
      ]
     },
     "execution_count": 7,
     "metadata": {},
     "output_type": "execute_result"
    }
   ],
   "source": [
    "model_1.train()"
   ]
  },
  {
   "cell_type": "code",
   "execution_count": 8,
   "metadata": {},
   "outputs": [
    {
     "name": "stdout",
     "output_type": "stream",
     "text": [
      "accuracy : 85.000000\n",
      "\n",
      "('Frequency per class: ', {'cell dies': 8, 'grows sparse': 20})\n"
     ]
    },
    {
     "data": {
      "image/png": "[encoded data removed]",
      "text/plain": [
       "<Figure size 432x288 with 1 Axes>"
      ]
     },
     "metadata": {},
     "output_type": "display_data"
    },
    {
     "name": "stdout",
     "output_type": "stream",
     "text": [
      "('Number of datapoints we got correct per class', {'cell dies': 8, 'grows sparse': 16})\n",
      "('Accuracy per class', {'cell dies': 1.0, 'grows sparse': 0.8})\n"
     ]
    },
    {
     "data": {
      "image/png": "[encoded data removed]",
      "text/plain": [
       "<Figure size 432x288 with 1 Axes>"
      ]
     },
     "metadata": {},
     "output_type": "display_data"
    },
    {
     "data": {
      "text/plain": [
       "0.8"
      ]
     },
     "execution_count": 8,
     "metadata": {},
     "output_type": "execute_result"
    }
   ],
   "source": [
    "model_1.test(validation_loader)"
   ]
  },
  {
   "cell_type": "code",
   "execution_count": 9,
   "metadata": {},
   "outputs": [
    {
     "name": "stdout",
     "output_type": "stream",
     "text": [
      "accuracy : 78.000000\n",
      "\n",
      "('Frequency per class: ', {'cell dies': 6, 'grows sparse': 22})\n"
     ]
    },
    {
     "data": {
      "image/png": "[encoded data removed]",
      "text/plain": [
       "<Figure size 432x288 with 1 Axes>"
      ]
     },
     "metadata": {},
     "output_type": "display_data"
    },
    {
     "name": "stdout",
     "output_type": "stream",
     "text": [
      "('Number of datapoints we got correct per class', {'cell dies': 4, 'grows sparse': 18})\n",
      "('Accuracy per class', {'cell dies': 0.6666666666666666, 'grows sparse': 0.8181818181818182})\n"
     ]
    },
    {
     "data": {
      "image/png": "[encoded data removed]",
      "text/plain": [
       "<Figure size 432x288 with 1 Axes>"
      ]
     },
     "metadata": {},
     "output_type": "display_data"
    },
    {
     "data": {
      "text/plain": [
       "0.5454545454545454"
      ]
     },
     "execution_count": 9,
     "metadata": {},
     "output_type": "execute_result"
    }
   ],
   "source": [
    "model_1.test(test_loader)"
   ]
  }
 ],
 "metadata": {
  "kernelspec": {
   "display_name": "Python 2",
   "language": "python",
   "name": "python2"
  },
  "language_info": {
   "codemirror_mode": {
    "name": "ipython",
    "version": 2
   },
   "file_extension": ".py",
   "mimetype": "text/x-python",
   "name": "python",
   "nbconvert_exporter": "python",
   "pygments_lexer": "ipython2",
   "version": "2.7.12"
  }
 },
 "nbformat": 4,
 "nbformat_minor": 2
}
